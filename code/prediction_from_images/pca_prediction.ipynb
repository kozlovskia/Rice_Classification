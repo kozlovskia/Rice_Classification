{
 "cells": [
  {
   "cell_type": "code",
   "execution_count": 1,
   "metadata": {},
   "outputs": [],
   "source": [
    "import os\n",
    "\n",
    "import matplotlib.pyplot as plt\n",
    "import numpy as np\n",
    "from sklearn.decomposition import PCA\n",
    "from sklearn.ensemble import RandomForestClassifier\n",
    "from sklearn.metrics import classification_report\n",
    "from sklearn.model_selection import train_test_split\n",
    "from sklearn.pipeline import Pipeline\n"
   ]
  },
  {
   "cell_type": "code",
   "execution_count": 2,
   "metadata": {},
   "outputs": [],
   "source": [
    "os.chdir(\"../..\")\n",
    "IMAGES_FOLDER = \"data/Rice_Image_Dataset\"\n",
    "CATEGORIES = os.listdir(IMAGES_FOLDER)\n"
   ]
  },
  {
   "cell_type": "code",
   "execution_count": 3,
   "metadata": {},
   "outputs": [
    {
     "name": "stdout",
     "output_type": "stream",
     "text": [
      "Category: Jasmine\n",
      "Category: Basmati\n",
      "Category: Karacadag\n",
      "Category: Ipsala\n",
      "Category: Arborio\n"
     ]
    }
   ],
   "source": [
    "NUM_IMAGES_FROM_CATEGORY = 1000\n",
    "categories = []\n",
    "images = []\n",
    "for category in CATEGORIES:\n",
    "    images_path = os.path.join(IMAGES_FOLDER, category)\n",
    "    category_images = os.listdir(images_path)[:NUM_IMAGES_FROM_CATEGORY]\n",
    "    categories += [category] * len(category_images)\n",
    "    print(f\"Category: {category}\")\n",
    "    for image in category_images:\n",
    "        img = plt.imread(os.path.join(images_path, image))\n",
    "        images.append(img.flatten())\n"
   ]
  },
  {
   "cell_type": "code",
   "execution_count": 4,
   "metadata": {},
   "outputs": [],
   "source": [
    "images = np.array(images)\n"
   ]
  },
  {
   "cell_type": "code",
   "execution_count": 5,
   "metadata": {},
   "outputs": [],
   "source": [
    "x_train, x_test, y_train, y_test = train_test_split(\n",
    "    images, categories, test_size=0.1\n",
    ")\n"
   ]
  },
  {
   "cell_type": "code",
   "execution_count": 6,
   "metadata": {},
   "outputs": [],
   "source": [
    "mod = Pipeline([(\"pca\", PCA(50)), (\"forest\", RandomForestClassifier())])\n"
   ]
  },
  {
   "cell_type": "code",
   "execution_count": 7,
   "metadata": {},
   "outputs": [
    {
     "data": {
      "text/plain": [
       "Pipeline(steps=[('pca', PCA(n_components=50)),\n",
       "                ('forest', RandomForestClassifier())])"
      ]
     },
     "execution_count": 7,
     "metadata": {},
     "output_type": "execute_result"
    }
   ],
   "source": [
    "mod.fit(x_train, y_train)\n"
   ]
  },
  {
   "cell_type": "code",
   "execution_count": 8,
   "metadata": {},
   "outputs": [],
   "source": [
    "y_pred = mod.predict(x_test)\n"
   ]
  },
  {
   "cell_type": "code",
   "execution_count": 9,
   "metadata": {},
   "outputs": [
    {
     "name": "stdout",
     "output_type": "stream",
     "text": [
      "              precision    recall  f1-score   support\n",
      "\n",
      "     Arborio       0.97      0.96      0.96        96\n",
      "     Basmati       0.93      0.98      0.96       102\n",
      "      Ipsala       0.99      1.00      0.99        93\n",
      "     Jasmine       0.96      0.92      0.94       106\n",
      "   Karacadag       0.98      0.97      0.98       103\n",
      "\n",
      "    accuracy                           0.97       500\n",
      "   macro avg       0.97      0.97      0.97       500\n",
      "weighted avg       0.97      0.97      0.97       500\n",
      "\n"
     ]
    }
   ],
   "source": [
    "print(classification_report(y_test, y_pred))\n"
   ]
  }
 ],
 "metadata": {
  "interpreter": {
   "hash": "d542276d74bbb177bd5057437d4105b085f20e2fc9dd060565dc5018b9f6cedb"
  },
  "kernelspec": {
   "display_name": "Python 3.9.7 ('rice_classification')",
   "language": "python",
   "name": "python3"
  },
  "language_info": {
   "codemirror_mode": {
    "name": "ipython",
    "version": 3
   },
   "file_extension": ".py",
   "mimetype": "text/x-python",
   "name": "python",
   "nbconvert_exporter": "python",
   "pygments_lexer": "ipython3",
   "version": "3.9.7"
  },
  "orig_nbformat": 4
 },
 "nbformat": 4,
 "nbformat_minor": 2
}
