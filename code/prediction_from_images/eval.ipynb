{
 "cells": [
  {
   "cell_type": "code",
   "execution_count": null,
   "metadata": {},
   "outputs": [],
   "source": [
    "from sklearn.metrics import classification_report\n",
    "from sklearn.metrics import confusion_matrix, ConfusionMatrixDisplay\n",
    "from model import RiceClassifier\n",
    "from data import RiceDataset, get_transform\n",
    "import torch\n",
    "import numpy as np\n",
    "from pathlib import Path\n",
    "from tqdm.auto import tqdm"
   ]
  },
  {
   "cell_type": "code",
   "execution_count": null,
   "metadata": {},
   "outputs": [],
   "source": [
    "def load_val_dataset(input_dir=Path('../../data/Rice_Image_Dataset/'), val_ratio=0.2, num_workers=6, batch_size=32):\n",
    "    dataset = RiceDataset(input_dir, transform=get_transform())\n",
    "    val_amount = int(val_ratio * len(dataset))\n",
    "    train_amount = len(dataset) - val_amount\n",
    "    _, val_dataset = torch.utils.data.random_split(dataset, (train_amount, val_amount),\n",
    "                                                               generator=torch.Generator().manual_seed(42))\n",
    "    \n",
    "    val_loader = torch.utils.data.DataLoader(val_dataset, num_workers=num_workers, batch_size=batch_size,\n",
    "                                             drop_last=False)\n",
    "    return val_loader"
   ]
  },
  {
   "cell_type": "code",
   "execution_count": null,
   "metadata": {},
   "outputs": [],
   "source": [
    "dataset = load_val_dataset()"
   ]
  },
  {
   "cell_type": "code",
   "execution_count": null,
   "metadata": {},
   "outputs": [],
   "source": [
    "RESNET_WEIGHTS_PATH = 'resnet.pt'"
   ]
  },
  {
   "cell_type": "code",
   "execution_count": null,
   "metadata": {},
   "outputs": [],
   "source": [
    "model = RiceClassifier('resnet18')\n",
    "model.load_state_dict(torch.load(RESNET_WEIGHTS_PATH))"
   ]
  },
  {
   "cell_type": "code",
   "execution_count": null,
   "metadata": {},
   "outputs": [],
   "source": [
    "model.eval();"
   ]
  },
  {
   "cell_type": "code",
   "execution_count": null,
   "metadata": {},
   "outputs": [],
   "source": [
    "device = 'cuda' if torch.cuda.is_available() else 'cpu'"
   ]
  },
  {
   "cell_type": "code",
   "execution_count": null,
   "metadata": {},
   "outputs": [],
   "source": [
    "model.to(device);"
   ]
  },
  {
   "cell_type": "code",
   "execution_count": null,
   "metadata": {},
   "outputs": [],
   "source": [
    "preds_list = []\n",
    "targets_list = []\n",
    "for imgs, targets in tqdm(dataset):\n",
    "    with torch.no_grad():\n",
    "        imgs = imgs.to(device)\n",
    "        targets = targets.to(device)\n",
    "        preds = model.forward(imgs)\n",
    "        preds = torch.argmax(preds, -1)\n",
    "        preds = preds.cpu().numpy()\n",
    "        targets = targets.cpu().numpy()\n",
    "        preds_list.append(preds)\n",
    "        targets_list.append(targets)"
   ]
  },
  {
   "cell_type": "code",
   "execution_count": null,
   "metadata": {},
   "outputs": [],
   "source": [
    "y_preds = np.concatenate(preds_list)\n",
    "y_true = np.concatenate(targets_list)"
   ]
  },
  {
   "cell_type": "code",
   "execution_count": null,
   "metadata": {},
   "outputs": [],
   "source": [
    "y_preds, y_true"
   ]
  },
  {
   "cell_type": "code",
   "execution_count": null,
   "metadata": {},
   "outputs": [],
   "source": [
    "print(classification_report(y_true, y_preds))"
   ]
  },
  {
   "cell_type": "code",
   "execution_count": null,
   "metadata": {},
   "outputs": [],
   "source": []
  },
  {
   "cell_type": "code",
   "execution_count": null,
   "metadata": {},
   "outputs": [],
   "source": [
    "EFFICIENT_WEIGHTS_PATH = 'efficientnet.pt'"
   ]
  },
  {
   "cell_type": "code",
   "execution_count": null,
   "metadata": {},
   "outputs": [],
   "source": [
    "model = RiceClassifier('efficientnet_b0')\n",
    "model.load_state_dict(torch.load(EFFICIENT_WEIGHTS_PATH))"
   ]
  },
  {
   "cell_type": "code",
   "execution_count": null,
   "metadata": {},
   "outputs": [],
   "source": [
    "# model.eval();"
   ]
  },
  {
   "cell_type": "code",
   "execution_count": null,
   "metadata": {},
   "outputs": [],
   "source": [
    "device = 'cuda' if torch.cuda.is_available() else 'cpu'"
   ]
  },
  {
   "cell_type": "code",
   "execution_count": null,
   "metadata": {},
   "outputs": [],
   "source": [
    "model.to(device);"
   ]
  },
  {
   "cell_type": "code",
   "execution_count": null,
   "metadata": {},
   "outputs": [],
   "source": [
    "preds_list = []\n",
    "targets_list = []\n",
    "for imgs, targets in tqdm(dataset):\n",
    "    with torch.no_grad():\n",
    "        imgs = imgs.to(device)\n",
    "        targets = targets.to(device)\n",
    "        preds = model.forward(imgs)\n",
    "        preds = torch.argmax(preds, -1)\n",
    "        preds = preds.cpu().numpy()\n",
    "        targets = targets.cpu().numpy()\n",
    "        preds_list.append(preds)\n",
    "        targets_list.append(targets)"
   ]
  },
  {
   "cell_type": "code",
   "execution_count": null,
   "metadata": {},
   "outputs": [],
   "source": [
    "y_preds = np.concatenate(preds_list)\n",
    "y_true = np.concatenate(targets_list)"
   ]
  },
  {
   "cell_type": "code",
   "execution_count": null,
   "metadata": {},
   "outputs": [],
   "source": [
    "y_preds, y_true"
   ]
  },
  {
   "cell_type": "code",
   "execution_count": null,
   "metadata": {},
   "outputs": [],
   "source": [
    "print(classification_report(y_true, y_preds))"
   ]
  },
  {
   "cell_type": "code",
   "execution_count": null,
   "metadata": {},
   "outputs": [],
   "source": [
    "cm = confusion_matrix(y_true, y_preds)\n",
    "disp = ConfusionMatrixDisplay(cm)\n",
    "disp.plot()"
   ]
  }
 ],
 "metadata": {
  "interpreter": {
   "hash": "7cdc720247398fec10fe4ec34e0f3c16b8c98b2896761f69123362c5fa66dcea"
  },
  "kernelspec": {
   "display_name": "Python 3.9.7 ('wcag_image_captioning')",
   "language": "python",
   "name": "python3"
  },
  "language_info": {
   "codemirror_mode": {
    "name": "ipython",
    "version": 3
   },
   "file_extension": ".py",
   "mimetype": "text/x-python",
   "name": "python",
   "nbconvert_exporter": "python",
   "pygments_lexer": "ipython3",
   "version": "3.9.7"
  },
  "orig_nbformat": 4
 },
 "nbformat": 4,
 "nbformat_minor": 2
}
