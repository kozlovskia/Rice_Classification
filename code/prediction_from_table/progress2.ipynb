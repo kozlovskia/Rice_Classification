{
 "cells": [
  {
   "cell_type": "code",
   "execution_count": 1,
   "metadata": {},
   "outputs": [],
   "source": [
    "import sys\n",
    "import numpy as np\n",
    "import pandas as pd\n",
    "import os\n",
    "import seaborn as sns\n",
    "import matplotlib.pyplot as plt\n",
    "import statsmodels.formula.api as sm\n",
    "from sklearn import linear_model\n",
    "from sklearn.neighbors import KNeighborsClassifier\n",
    "from sklearn.metrics import classification_report\n",
    "from sklearn.model_selection import train_test_split\n",
    "from sklearn.feature_selection import SelectKBest\n",
    "from sklearn.feature_selection import chi2\n",
    "from sklearn.feature_selection import f_classif\n",
    "from sklearn.feature_selection import (\n",
    "    SelectKBest,\n",
    "    f_classif,\n",
    "    mutual_info_classif as MIC,\n",
    ")\n",
    "from sklearn.pipeline import make_pipeline\n",
    "from sklearn.svm import LinearSVC\n",
    "from sklearn.metrics import classification_report\n",
    "import matplotlib.pyplot as plt\n",
    "from sklearn.tree import DecisionTreeClassifier as DTC\n",
    "from sklearn.ensemble import RandomForestClassifier as RF\n",
    "from sklearn.datasets import make_classification\n",
    "from sklearn.model_selection import cross_val_score\n",
    "from sklearn.model_selection import RepeatedStratifiedKFold\n",
    "from numpy import mean\n",
    "from numpy import std\n",
    "from sklearn.naive_bayes import GaussianNB\n"
   ]
  },
  {
   "cell_type": "code",
   "execution_count": 2,
   "metadata": {},
   "outputs": [
    {
     "data": {
      "text/html": [
       "<div>\n",
       "<style scoped>\n",
       "    .dataframe tbody tr th:only-of-type {\n",
       "        vertical-align: middle;\n",
       "    }\n",
       "\n",
       "    .dataframe tbody tr th {\n",
       "        vertical-align: top;\n",
       "    }\n",
       "\n",
       "    .dataframe thead th {\n",
       "        text-align: right;\n",
       "    }\n",
       "</style>\n",
       "<table border=\"1\" class=\"dataframe\">\n",
       "  <thead>\n",
       "    <tr style=\"text-align: right;\">\n",
       "      <th></th>\n",
       "      <th>AREA</th>\n",
       "      <th>PERIMETER</th>\n",
       "      <th>MAJOR_AXIS</th>\n",
       "      <th>MINOR_AXIS</th>\n",
       "      <th>ECCENTRICITY</th>\n",
       "      <th>EQDIASQ</th>\n",
       "      <th>SOLIDITY</th>\n",
       "      <th>CONVEX_AREA</th>\n",
       "      <th>EXTENT</th>\n",
       "      <th>ASPECT_RATIO</th>\n",
       "      <th>...</th>\n",
       "      <th>ALLdaub4L</th>\n",
       "      <th>ALLdaub4a</th>\n",
       "      <th>ALLdaub4b</th>\n",
       "      <th>ALLdaub4Y</th>\n",
       "      <th>ALLdaub4Cb</th>\n",
       "      <th>ALLdaub4Cr</th>\n",
       "      <th>ALLdaub4XX</th>\n",
       "      <th>ALLdaub4YY</th>\n",
       "      <th>ALLdaub4ZZ</th>\n",
       "      <th>CLASS</th>\n",
       "    </tr>\n",
       "  </thead>\n",
       "  <tbody>\n",
       "    <tr>\n",
       "      <th>0</th>\n",
       "      <td>7805</td>\n",
       "      <td>437.915</td>\n",
       "      <td>209.8215</td>\n",
       "      <td>48.0221</td>\n",
       "      <td>0.9735</td>\n",
       "      <td>99.6877</td>\n",
       "      <td>0.9775</td>\n",
       "      <td>7985</td>\n",
       "      <td>0.3547</td>\n",
       "      <td>4.3693</td>\n",
       "      <td>...</td>\n",
       "      <td>113.9924</td>\n",
       "      <td>65.0610</td>\n",
       "      <td>59.5989</td>\n",
       "      <td>104.8552</td>\n",
       "      <td>67.8779</td>\n",
       "      <td>63.0828</td>\n",
       "      <td>0.3673</td>\n",
       "      <td>0.3793</td>\n",
       "      <td>0.4733</td>\n",
       "      <td>Basmati</td>\n",
       "    </tr>\n",
       "    <tr>\n",
       "      <th>1</th>\n",
       "      <td>7503</td>\n",
       "      <td>340.757</td>\n",
       "      <td>138.3361</td>\n",
       "      <td>69.8417</td>\n",
       "      <td>0.8632</td>\n",
       "      <td>97.7400</td>\n",
       "      <td>0.9660</td>\n",
       "      <td>7767</td>\n",
       "      <td>0.6637</td>\n",
       "      <td>1.9807</td>\n",
       "      <td>...</td>\n",
       "      <td>105.7055</td>\n",
       "      <td>64.3685</td>\n",
       "      <td>62.2084</td>\n",
       "      <td>96.8375</td>\n",
       "      <td>65.5371</td>\n",
       "      <td>63.5832</td>\n",
       "      <td>0.3014</td>\n",
       "      <td>0.3144</td>\n",
       "      <td>0.3641</td>\n",
       "      <td>Arborio</td>\n",
       "    </tr>\n",
       "    <tr>\n",
       "      <th>2</th>\n",
       "      <td>5124</td>\n",
       "      <td>314.617</td>\n",
       "      <td>141.9803</td>\n",
       "      <td>46.5784</td>\n",
       "      <td>0.9447</td>\n",
       "      <td>80.7718</td>\n",
       "      <td>0.9721</td>\n",
       "      <td>5271</td>\n",
       "      <td>0.4760</td>\n",
       "      <td>3.0482</td>\n",
       "      <td>...</td>\n",
       "      <td>109.7155</td>\n",
       "      <td>62.6423</td>\n",
       "      <td>58.7439</td>\n",
       "      <td>100.2352</td>\n",
       "      <td>68.9753</td>\n",
       "      <td>59.8342</td>\n",
       "      <td>0.3233</td>\n",
       "      <td>0.3445</td>\n",
       "      <td>0.4448</td>\n",
       "      <td>Jasmine</td>\n",
       "    </tr>\n",
       "    <tr>\n",
       "      <th>3</th>\n",
       "      <td>7990</td>\n",
       "      <td>437.085</td>\n",
       "      <td>201.4386</td>\n",
       "      <td>51.2245</td>\n",
       "      <td>0.9671</td>\n",
       "      <td>100.8622</td>\n",
       "      <td>0.9659</td>\n",
       "      <td>8272</td>\n",
       "      <td>0.6274</td>\n",
       "      <td>3.9325</td>\n",
       "      <td>...</td>\n",
       "      <td>116.5405</td>\n",
       "      <td>64.9069</td>\n",
       "      <td>60.2562</td>\n",
       "      <td>107.2560</td>\n",
       "      <td>67.3298</td>\n",
       "      <td>63.2237</td>\n",
       "      <td>0.3880</td>\n",
       "      <td>0.4020</td>\n",
       "      <td>0.4904</td>\n",
       "      <td>Basmati</td>\n",
       "    </tr>\n",
       "    <tr>\n",
       "      <th>4</th>\n",
       "      <td>7433</td>\n",
       "      <td>342.893</td>\n",
       "      <td>140.3350</td>\n",
       "      <td>68.3927</td>\n",
       "      <td>0.8732</td>\n",
       "      <td>97.2830</td>\n",
       "      <td>0.9831</td>\n",
       "      <td>7561</td>\n",
       "      <td>0.6006</td>\n",
       "      <td>2.0519</td>\n",
       "      <td>...</td>\n",
       "      <td>107.7502</td>\n",
       "      <td>64.7071</td>\n",
       "      <td>61.3549</td>\n",
       "      <td>98.8704</td>\n",
       "      <td>66.2048</td>\n",
       "      <td>63.5378</td>\n",
       "      <td>0.3184</td>\n",
       "      <td>0.3303</td>\n",
       "      <td>0.3928</td>\n",
       "      <td>Arborio</td>\n",
       "    </tr>\n",
       "  </tbody>\n",
       "</table>\n",
       "<p>5 rows × 107 columns</p>\n",
       "</div>"
      ],
      "text/plain": [
       "   AREA  PERIMETER  MAJOR_AXIS  MINOR_AXIS  ECCENTRICITY   EQDIASQ  SOLIDITY  \\\n",
       "0  7805    437.915    209.8215     48.0221        0.9735   99.6877    0.9775   \n",
       "1  7503    340.757    138.3361     69.8417        0.8632   97.7400    0.9660   \n",
       "2  5124    314.617    141.9803     46.5784        0.9447   80.7718    0.9721   \n",
       "3  7990    437.085    201.4386     51.2245        0.9671  100.8622    0.9659   \n",
       "4  7433    342.893    140.3350     68.3927        0.8732   97.2830    0.9831   \n",
       "\n",
       "   CONVEX_AREA  EXTENT  ASPECT_RATIO  ...  ALLdaub4L  ALLdaub4a  ALLdaub4b  \\\n",
       "0         7985  0.3547        4.3693  ...   113.9924    65.0610    59.5989   \n",
       "1         7767  0.6637        1.9807  ...   105.7055    64.3685    62.2084   \n",
       "2         5271  0.4760        3.0482  ...   109.7155    62.6423    58.7439   \n",
       "3         8272  0.6274        3.9325  ...   116.5405    64.9069    60.2562   \n",
       "4         7561  0.6006        2.0519  ...   107.7502    64.7071    61.3549   \n",
       "\n",
       "   ALLdaub4Y  ALLdaub4Cb  ALLdaub4Cr  ALLdaub4XX  ALLdaub4YY  ALLdaub4ZZ  \\\n",
       "0   104.8552     67.8779     63.0828      0.3673      0.3793      0.4733   \n",
       "1    96.8375     65.5371     63.5832      0.3014      0.3144      0.3641   \n",
       "2   100.2352     68.9753     59.8342      0.3233      0.3445      0.4448   \n",
       "3   107.2560     67.3298     63.2237      0.3880      0.4020      0.4904   \n",
       "4    98.8704     66.2048     63.5378      0.3184      0.3303      0.3928   \n",
       "\n",
       "     CLASS  \n",
       "0  Basmati  \n",
       "1  Arborio  \n",
       "2  Jasmine  \n",
       "3  Basmati  \n",
       "4  Arborio  \n",
       "\n",
       "[5 rows x 107 columns]"
      ]
     },
     "execution_count": 2,
     "metadata": {},
     "output_type": "execute_result"
    }
   ],
   "source": [
    "data = pd.read_csv(\"../../data/rice_msc_dataset.csv\")\n",
    "data.head()\n"
   ]
  },
  {
   "cell_type": "markdown",
   "metadata": {},
   "source": [
    "#### CZĘŚĆ 1: Podstawowa eksploracja danych ####"
   ]
  },
  {
   "cell_type": "code",
   "execution_count": 3,
   "metadata": {},
   "outputs": [
    {
     "name": "stdout",
     "output_type": "stream",
     "text": [
      "AREA            0\n",
      "PERIMETER       0\n",
      "MAJOR_AXIS      0\n",
      "MINOR_AXIS      0\n",
      "ECCENTRICITY    0\n",
      "               ..\n",
      "ALLdaub4Cr      0\n",
      "ALLdaub4XX      0\n",
      "ALLdaub4YY      0\n",
      "ALLdaub4ZZ      0\n",
      "CLASS           0\n",
      "Length: 107, dtype: int64\n",
      "              precision    recall  f1-score   support\n",
      "\n",
      "     Arborio       0.48      0.50      0.49      1510\n",
      "     Basmati       0.50      0.49      0.50      1475\n",
      "      Ipsala       0.97      0.97      0.97      1464\n",
      "     Jasmine       0.82      0.84      0.83      1540\n",
      "   Karacadag       0.73      0.69      0.71      1511\n",
      "\n",
      "    accuracy                           0.70      7500\n",
      "   macro avg       0.70      0.70      0.70      7500\n",
      "weighted avg       0.70      0.70      0.70      7500\n",
      "\n"
     ]
    },
    {
     "data": {
      "image/png": "[encoded data removed]",
      "text/plain": [
       "<Figure size 432x288 with 2 Axes>"
      ]
     },
     "metadata": {},
     "output_type": "display_data"
    }
   ],
   "source": [
    "# Sprawdzamy czy są jakieś missing values\n",
    "data.isnull().values.any()  # Są\n",
    "ile_brakuje = data.isnull().sum()\n",
    "\n",
    "print(ile_brakuje)\n",
    "\n",
    "ile_brakuje[\n",
    "    ile_brakuje > 0\n",
    "]  # Zmienne dla których są jakies brakujące wartosci\n",
    "\n",
    "# Usunę wiersze z brakującymi wartosciami.\n",
    "\n",
    "data2 = data.dropna()  # Nowe dane\n",
    "len(data.index) - len(\n",
    "    data2.index\n",
    ")  # Czyli było 8 wierszy z brakującymi zmiennymi\n",
    "\n",
    "data2 = data2.reset_index()\n",
    "\n",
    "# Tworzymy roboczy zbiór danych bez ostatniej kolumny\n",
    "\n",
    "data3 = data2.drop([\"CLASS\"], axis=1)\n",
    "\n",
    "data3 = data3.drop([\"index\"], axis=1)\n",
    "\n",
    "data4 = data2[[\"CLASS\"]]\n",
    "\n",
    "# Macierz korelacji\n",
    "# Zbadamy skorelowanie poszczególnych zmiennych (docelowo objasniających),\n",
    "# żeby zdecydować których nie ma sensu wspólnie używać przy przewidywaniu rodzaju ryżu.\n",
    "\n",
    "sns.heatmap(data3)  # nie widać tutaj zbyt wiele\n",
    "\n",
    "M = data3.corr()\n",
    "\n",
    "# Wypisujemy \"Mocno\" dla elementów macierzy, w których korelacja > 0.9\n",
    "M[abs(M) > 0.9] = \"Mocno\"\n",
    "\n",
    "# Rysujemy boxploty dotyczące AREA dla różnych rodzajów ryżu\n",
    "\n",
    "data_powierzchnia = data2[[\"AREA\", \"CLASS\"]]\n",
    "\n",
    "box_area = sns.boxplot(\n",
    "    x=\"CLASS\", y=\"AREA\", data=data_powierzchnia, color=\"#99c2a2\"\n",
    ")\n",
    "\n",
    "Ipsala = data_powierzchnia.loc[data_powierzchnia[\"CLASS\"] == \"Ipsala\"]\n",
    "Ipsala = Ipsala.reset_index()\n",
    "\n",
    "\n",
    "Ipsala[(Ipsala[\"AREA\"] > 12500) & (Ipsala[\"AREA\"] < 15000)].shape[\n",
    "    0\n",
    "]  # ponad połowa wartosci w srodku boxplota: 8827\n",
    "\n",
    "Ipsala[Ipsala[\"AREA\"] > 17000].shape[0]  # 260\n",
    "Ipsala[Ipsala[\"AREA\"] > 20000].shape[0]  # 1 mocny outlier\n",
    "\n",
    "Ipsala[Ipsala[\"AREA\"] < 10000].shape[0]  # 111\n",
    "\n",
    "Ipsala[\"AREA\"].mean()\n",
    "Ipsala[\"AREA\"].median()\n",
    "\n",
    "ax2 = sns.boxplot(x=\"CLASS\", y=\"AREA\", data=Ipsala, color=\"#99c2a2\")\n",
    "\n",
    "ax = sns.boxplot(x=\"CLASS\", y=\"AREA\", data=data_powierzchnia, color=\"#99c2a2\")\n",
    "# Boxplot stworzony dla wszystkich typów ryżu wskazuje na to, że są istotne różnice w powierzchni jeżeli chodzi o Ipsala, Karacadag, Jasmine,\n",
    "# natomiast zbadanie powierzchni nie odróżni nam od siebie Basmati i Arborio.\n",
    "\n",
    "# Weźmiemy jeszcze trwałosć, żeby może odróżnić dwa pozostałe rodzaje ryżu\n",
    "\n",
    "data_trwalosc = data2[[\"SOLIDITY\", \"CLASS\"]]\n",
    "\n",
    "box_trwalosc = sns.boxplot(\n",
    "    x=\"CLASS\", y=\"SOLIDITY\", data=data_trwalosc, color=\"#99c2a2\"\n",
    ")\n",
    "# Powinno nam odróżnić basmati od arborio\n",
    "# KNN\n",
    "X, Y = data[[\"AREA\", \"SOLIDITY\"]], data[\"CLASS\"]\n",
    "X_train, X_test, Y_train, Y_test = train_test_split(X, Y, test_size=0.1)\n",
    "\n",
    "knn = KNeighborsClassifier()\n",
    "knn.fit(X_train, Y_train)\n",
    "przewidziane = knn.predict(X_test)\n",
    "\n",
    "print(classification_report(Y_test, przewidziane))\n"
   ]
  },
  {
   "cell_type": "markdown",
   "metadata": {},
   "source": [
    "\n",
    "## CZĘŚĆ 2: Feature selection - DRZEWA DECYZYJNE \n"
   ]
  },
  {
   "cell_type": "code",
   "execution_count": 4,
   "metadata": {},
   "outputs": [],
   "source": [
    "X_train, X_test, Y_train, Y_test = train_test_split(\n",
    "    data3, data4, test_size=0.1\n",
    ")\n"
   ]
  },
  {
   "cell_type": "code",
   "execution_count": 5,
   "metadata": {},
   "outputs": [
    {
     "name": "stdout",
     "output_type": "stream",
     "text": [
      "[0.9222672  0.95153369 0.94509252 0.97918273 1.28682013 0.92148427\n",
      " 0.22582828 0.92330146 0.49420704 1.28719163 1.31883341 1.29603698\n",
      " 0.98487244 0.92334715 1.29489125 0.20517238 0.54769565 0.52174951\n",
      " 0.28416738 0.61987908 0.62350495 0.61390085 0.37434653 0.40892057\n",
      " 0.32990184 0.5375414  0.56390541 0.48112958 0.80729879 0.86108037\n",
      " 0.83441858 0.58267955 0.61355614 0.35087569 0.32771852 0.57116246\n",
      " 0.6672937  0.31161098 0.43460577 0.40423717 0.19915763 0.30147511\n",
      " 0.56667159 0.54636941 0.52920061 0.31627468 0.52084322 0.77290635\n",
      " 0.88141344 0.6407397  0.52851842 0.57367353 0.38941369 0.44327624\n",
      " 0.44272523 0.55089628 0.18301439 0.28174977 0.87020658 0.83865321\n",
      " 0.9007467  0.50827953 0.87409289 0.47941098 0.62996041 0.57716041\n",
      " 0.38755722 0.36235985 0.43288547 0.2207219  0.54397606 0.23191625\n",
      " 0.18368543 0.86428063 0.82758197 0.85430274 0.48958836 0.50694028\n",
      " 0.28628026 0.48382792 0.46961871 0.53518613 0.26683194 0.31938761\n",
      " 0.23617321 0.56235554 0.5787765  0.49038165 0.62529991 0.41061347\n",
      " 0.33609114 0.54587198 0.51998425 0.2883656  0.58038965 0.6124857\n",
      " 0.35245676 0.52190982 0.77440481 0.87908921 0.51016186 0.87238678\n",
      " 0.47799938 0.48566796 0.50924268 0.28745391]\n"
     ]
    }
   ],
   "source": [
    "mi_score = MIC(X_train, Y_train.values.ravel())\n",
    "print(mi_score)\n"
   ]
  },
  {
   "cell_type": "code",
   "execution_count": 6,
   "metadata": {},
   "outputs": [
    {
     "data": {
      "text/plain": [
       "(array([14., 15., 22., 25.,  2.,  9., 12.,  2.,  0.,  5.]),\n",
       " array([0.18301439, 0.29659629, 0.41017819, 0.5237601 , 0.637342  ,\n",
       "        0.7509239 , 0.8645058 , 0.9780877 , 1.09166961, 1.20525151,\n",
       "        1.31883341]),\n",
       " <BarContainer object of 10 artists>)"
      ]
     },
     "execution_count": 6,
     "metadata": {},
     "output_type": "execute_result"
    },
    {
     "data": {
      "image/png": "[encoded data removed]",
      "text/plain": [
       "<Figure size 432x288 with 1 Axes>"
      ]
     },
     "metadata": {},
     "output_type": "display_data"
    }
   ],
   "source": [
    "np.histogram(mi_score)\n",
    "plt.hist(\n",
    "    mi_score\n",
    ")  # widzimy, że najwięcej zmiennych wpada w przedział [0.4,0.6]\n"
   ]
  },
  {
   "cell_type": "code",
   "execution_count": 7,
   "metadata": {},
   "outputs": [],
   "source": [
    "mi_score_selected_index = np.where(mi_score > 0.5)[0]\n",
    "# wybiorę zmienne, które mają mi_score > 0.5\n"
   ]
  },
  {
   "cell_type": "code",
   "execution_count": 8,
   "metadata": {},
   "outputs": [],
   "source": [
    "X_2 = data3[data3.columns[mi_score_selected_index - 1]]\n",
    "# wybieram zmienne z odpowiednio dużym mi_score\n"
   ]
  },
  {
   "cell_type": "code",
   "execution_count": 9,
   "metadata": {},
   "outputs": [],
   "source": [
    "X_train_2, X_test_2, Y_train2, Y_test2 = train_test_split(\n",
    "    X_2, data4, test_size=0.1\n",
    ")\n"
   ]
  },
  {
   "cell_type": "code",
   "execution_count": 10,
   "metadata": {},
   "outputs": [
    {
     "name": "stdout",
     "output_type": "stream",
     "text": [
      "score_1:0.996\n",
      " score_2:0.9958666666666667\n",
      "\n"
     ]
    }
   ],
   "source": [
    "model_1 = DTC().fit(X_train, Y_train)\n",
    "model_2 = DTC().fit(X_train_2, Y_train2)\n",
    "\n",
    "score_1 = model_1.score(X_test, Y_test)\n",
    "score_2 = model_2.score(X_test_2, Y_test2)\n",
    "\n",
    "print(f\"score_1:{score_1}\\n score_2:{score_2}\\n\")\n"
   ]
  },
  {
   "cell_type": "code",
   "execution_count": 11,
   "metadata": {},
   "outputs": [
    {
     "data": {
      "text/plain": [
       "Index(['ALLdaub4ZZ', 'AREA', 'PERIMETER', 'MAJOR_AXIS', 'MINOR_AXIS',\n",
       "       'ECCENTRICITY', 'SOLIDITY', 'EXTENT', 'ASPECT_RATIO', 'ROUNDNESS',\n",
       "       'COMPACTNESS', 'SHAPEFACTOR_1', 'SHAPEFACTOR_2', 'SHAPEFACTOR_4',\n",
       "       'meanRR', 'meanRB', 'StdDevRR', 'StdDevRG', 'skewRB', 'kurtosisRR',\n",
       "       'kurtosisRB', 'entropyRR', 'entropyRG', 'entropyRB', 'meanH', 'StdDevH',\n",
       "       'StdDevS', 'kurtosisS', 'kurtosisV', 'entropyH', 'entropyV', 'meanL',\n",
       "       'meanA', 'meanB', 'StdDevL', 'StdDevA', 'skewB', 'kurtosisB',\n",
       "       'entropyL', 'entropyA', 'entropyB', 'meanY', 'meanCr', 'StdDevY',\n",
       "       'skewCr', 'kurtosisCr', 'entropyY', 'entropyCb', 'meanXX', 'StdDevYY',\n",
       "       'skewZZ', 'kurtosisXX', 'kurtosisZZ', 'entropyZZ', 'ALLdaub4RR',\n",
       "       'ALLdaub4RB', 'ALLdaub4H', 'ALLdaub4V', 'ALLdaub4L', 'ALLdaub4a',\n",
       "       'ALLdaub4b', 'ALLdaub4Y', 'ALLdaub4XX'],\n",
       "      dtype='object')"
      ]
     },
     "execution_count": 11,
     "metadata": {},
     "output_type": "execute_result"
    }
   ],
   "source": [
    "data3.columns[mi_score_selected_index - 1]\n"
   ]
  },
  {
   "cell_type": "code",
   "execution_count": 12,
   "metadata": {},
   "outputs": [
    {
     "data": {
      "text/plain": [
       "63"
      ]
     },
     "execution_count": 12,
     "metadata": {},
     "output_type": "execute_result"
    }
   ],
   "source": [
    "# liczba zmiennych objasniajacych które zostały:\n",
    "\n",
    "len(data3.columns[mi_score_selected_index - 1])\n",
    "# Czyli widzimy, że pomimo usunięcia 63 zmiennych, model praktycznie nie stracił na jakosci\n"
   ]
  },
  {
   "cell_type": "code",
   "execution_count": 13,
   "metadata": {},
   "outputs": [
    {
     "name": "stdout",
     "output_type": "stream",
     "text": [
      "score_1:0.996\n",
      " score_3:0.9901333333333333\n",
      "\n"
     ]
    }
   ],
   "source": [
    "################################################\n",
    "# Spróbujmy pójsć dalej.\n",
    "################################################\n",
    "\n",
    "mi_score_selected_index2 = np.where(mi_score > 0.8)[\n",
    "    0\n",
    "]  # wybiorę zmienne, które mają mi_score > 0.5\n",
    "\n",
    "X_3 = data3[\n",
    "    data3.columns[mi_score_selected_index2 - 1]\n",
    "]  # wybieram zmienne z odpowiednio dużym mi_score\n",
    "\n",
    "\n",
    "X_train_3, X_test_3, Y_train3, Y_test3 = train_test_split(\n",
    "    X_3, data4, test_size=0.1\n",
    ")\n",
    "\n",
    "model_3 = DTC().fit(X_train_3, Y_train3)\n",
    "score_3 = model_3.score(X_test_3, Y_test3)\n",
    "\n",
    "print(f\"score_1:{score_1}\\n score_3:{score_3}\\n\")\n"
   ]
  },
  {
   "cell_type": "code",
   "execution_count": 14,
   "metadata": {},
   "outputs": [
    {
     "data": {
      "text/plain": [
       "Index(['ALLdaub4ZZ', 'AREA', 'PERIMETER', 'MAJOR_AXIS', 'MINOR_AXIS',\n",
       "       'ECCENTRICITY', 'SOLIDITY', 'EXTENT', 'ASPECT_RATIO', 'ROUNDNESS',\n",
       "       'COMPACTNESS', 'SHAPEFACTOR_1', 'SHAPEFACTOR_2', 'kurtosisRB',\n",
       "       'entropyRR', 'entropyRG', 'meanA', 'kurtosisB', 'entropyL', 'entropyA',\n",
       "       'meanY', 'kurtosisCr', 'entropyY', 'entropyCb', 'ALLdaub4a',\n",
       "       'ALLdaub4Y'],\n",
       "      dtype='object')"
      ]
     },
     "execution_count": 14,
     "metadata": {},
     "output_type": "execute_result"
    }
   ],
   "source": [
    "# pozostałe kolumny w feature selection:\n",
    "\n",
    "data3.columns[mi_score_selected_index2 - 1]\n"
   ]
  },
  {
   "cell_type": "code",
   "execution_count": 15,
   "metadata": {},
   "outputs": [
    {
     "data": {
      "text/plain": [
       "26"
      ]
     },
     "execution_count": 15,
     "metadata": {},
     "output_type": "execute_result"
    }
   ],
   "source": [
    "# liczba zmiennych objasniajacych które zostały:\n",
    "\n",
    "len(data3.columns[mi_score_selected_index2 - 1])  # 26\n",
    "\n",
    "################################################\n",
    "# Wciąż jest bardzo dobrze, idziemy dalej.\n",
    "################################################\n"
   ]
  },
  {
   "cell_type": "code",
   "execution_count": 16,
   "metadata": {},
   "outputs": [
    {
     "name": "stdout",
     "output_type": "stream",
     "text": [
      "score_1:0.996\n",
      " score_4:0.994\n",
      "\n"
     ]
    }
   ],
   "source": [
    "mi_score_selected_index3 = np.where(mi_score > 0.95)[\n",
    "    0\n",
    "]  # wybiorę zmienne, które mają mi_score > 0.5\n",
    "\n",
    "X_4 = data3[\n",
    "    data3.columns[mi_score_selected_index2 - 1]\n",
    "]  # wybieram zmienne z odpowiednio dużym mi_score\n",
    "\n",
    "\n",
    "X_train_4, X_test_4, Y_train4, Y_test4 = train_test_split(\n",
    "    X_4, data4, test_size=0.1\n",
    ")\n",
    "\n",
    "model_4 = DTC().fit(X_train_4, Y_train4)\n",
    "score_4 = model_4.score(X_test_4, Y_test4)\n",
    "\n",
    "print(f\"score_1:{score_1}\\n score_4:{score_4}\\n\")\n"
   ]
  },
  {
   "cell_type": "code",
   "execution_count": 17,
   "metadata": {},
   "outputs": [
    {
     "data": {
      "text/plain": [
       "Index(['AREA', 'MAJOR_AXIS', 'MINOR_AXIS', 'EXTENT', 'ASPECT_RATIO',\n",
       "       'ROUNDNESS', 'COMPACTNESS', 'SHAPEFACTOR_2'],\n",
       "      dtype='object')"
      ]
     },
     "execution_count": 17,
     "metadata": {},
     "output_type": "execute_result"
    }
   ],
   "source": [
    "data3.columns[mi_score_selected_index3 - 1]\n"
   ]
  },
  {
   "cell_type": "code",
   "execution_count": 18,
   "metadata": {},
   "outputs": [
    {
     "data": {
      "text/plain": [
       "8"
      ]
     },
     "execution_count": 18,
     "metadata": {},
     "output_type": "execute_result"
    }
   ],
   "source": [
    "len(data3.columns[mi_score_selected_index3 - 1])  # 8\n"
   ]
  },
  {
   "cell_type": "markdown",
   "metadata": {},
   "source": [
    "##### CZĘŚĆ 3: LASY LOSOWE \n"
   ]
  },
  {
   "cell_type": "code",
   "execution_count": 19,
   "metadata": {},
   "outputs": [
    {
     "name": "stderr",
     "output_type": "stream",
     "text": [
      "/home/mchraba/anaconda3/envs/rice_classification/lib/python3.9/site-packages/sklearn/model_selection/_validation.py:680: DataConversionWarning: A column-vector y was passed when a 1d array was expected. Please change the shape of y to (n_samples,), for example using ravel().\n",
      "  estimator.fit(X_train, y_train, **fit_params)\n",
      "/home/mchraba/anaconda3/envs/rice_classification/lib/python3.9/site-packages/sklearn/model_selection/_validation.py:680: DataConversionWarning: A column-vector y was passed when a 1d array was expected. Please change the shape of y to (n_samples,), for example using ravel().\n",
      "  estimator.fit(X_train, y_train, **fit_params)\n",
      "/home/mchraba/anaconda3/envs/rice_classification/lib/python3.9/site-packages/sklearn/model_selection/_validation.py:680: DataConversionWarning: A column-vector y was passed when a 1d array was expected. Please change the shape of y to (n_samples,), for example using ravel().\n",
      "  estimator.fit(X_train, y_train, **fit_params)\n",
      "/home/mchraba/anaconda3/envs/rice_classification/lib/python3.9/site-packages/sklearn/model_selection/_validation.py:680: DataConversionWarning: A column-vector y was passed when a 1d array was expected. Please change the shape of y to (n_samples,), for example using ravel().\n",
      "  estimator.fit(X_train, y_train, **fit_params)\n",
      "/home/mchraba/anaconda3/envs/rice_classification/lib/python3.9/site-packages/sklearn/model_selection/_validation.py:680: DataConversionWarning: A column-vector y was passed when a 1d array was expected. Please change the shape of y to (n_samples,), for example using ravel().\n",
      "  estimator.fit(X_train, y_train, **fit_params)\n",
      "/home/mchraba/anaconda3/envs/rice_classification/lib/python3.9/site-packages/sklearn/model_selection/_validation.py:680: DataConversionWarning: A column-vector y was passed when a 1d array was expected. Please change the shape of y to (n_samples,), for example using ravel().\n",
      "  estimator.fit(X_train, y_train, **fit_params)\n",
      "/home/mchraba/anaconda3/envs/rice_classification/lib/python3.9/site-packages/sklearn/model_selection/_validation.py:680: DataConversionWarning: A column-vector y was passed when a 1d array was expected. Please change the shape of y to (n_samples,), for example using ravel().\n",
      "  estimator.fit(X_train, y_train, **fit_params)\n",
      "/home/mchraba/anaconda3/envs/rice_classification/lib/python3.9/site-packages/sklearn/model_selection/_validation.py:680: DataConversionWarning: A column-vector y was passed when a 1d array was expected. Please change the shape of y to (n_samples,), for example using ravel().\n",
      "  estimator.fit(X_train, y_train, **fit_params)\n",
      "/home/mchraba/anaconda3/envs/rice_classification/lib/python3.9/site-packages/sklearn/model_selection/_validation.py:680: DataConversionWarning: A column-vector y was passed when a 1d array was expected. Please change the shape of y to (n_samples,), for example using ravel().\n",
      "  estimator.fit(X_train, y_train, **fit_params)\n",
      "/home/mchraba/anaconda3/envs/rice_classification/lib/python3.9/site-packages/sklearn/model_selection/_validation.py:680: DataConversionWarning: A column-vector y was passed when a 1d array was expected. Please change the shape of y to (n_samples,), for example using ravel().\n",
      "  estimator.fit(X_train, y_train, **fit_params)\n",
      "/home/mchraba/anaconda3/envs/rice_classification/lib/python3.9/site-packages/sklearn/model_selection/_validation.py:680: DataConversionWarning: A column-vector y was passed when a 1d array was expected. Please change the shape of y to (n_samples,), for example using ravel().\n",
      "  estimator.fit(X_train, y_train, **fit_params)\n",
      "/home/mchraba/anaconda3/envs/rice_classification/lib/python3.9/site-packages/sklearn/model_selection/_validation.py:680: DataConversionWarning: A column-vector y was passed when a 1d array was expected. Please change the shape of y to (n_samples,), for example using ravel().\n",
      "  estimator.fit(X_train, y_train, **fit_params)\n",
      "/home/mchraba/anaconda3/envs/rice_classification/lib/python3.9/site-packages/sklearn/model_selection/_validation.py:680: DataConversionWarning: A column-vector y was passed when a 1d array was expected. Please change the shape of y to (n_samples,), for example using ravel().\n",
      "  estimator.fit(X_train, y_train, **fit_params)\n",
      "/home/mchraba/anaconda3/envs/rice_classification/lib/python3.9/site-packages/sklearn/model_selection/_validation.py:680: DataConversionWarning: A column-vector y was passed when a 1d array was expected. Please change the shape of y to (n_samples,), for example using ravel().\n",
      "  estimator.fit(X_train, y_train, **fit_params)\n",
      "/home/mchraba/anaconda3/envs/rice_classification/lib/python3.9/site-packages/sklearn/model_selection/_validation.py:680: DataConversionWarning: A column-vector y was passed when a 1d array was expected. Please change the shape of y to (n_samples,), for example using ravel().\n",
      "  estimator.fit(X_train, y_train, **fit_params)\n",
      "/home/mchraba/anaconda3/envs/rice_classification/lib/python3.9/site-packages/sklearn/model_selection/_validation.py:680: DataConversionWarning: A column-vector y was passed when a 1d array was expected. Please change the shape of y to (n_samples,), for example using ravel().\n",
      "  estimator.fit(X_train, y_train, **fit_params)\n",
      "/home/mchraba/anaconda3/envs/rice_classification/lib/python3.9/site-packages/sklearn/model_selection/_validation.py:680: DataConversionWarning: A column-vector y was passed when a 1d array was expected. Please change the shape of y to (n_samples,), for example using ravel().\n",
      "  estimator.fit(X_train, y_train, **fit_params)\n",
      "/home/mchraba/anaconda3/envs/rice_classification/lib/python3.9/site-packages/sklearn/model_selection/_validation.py:680: DataConversionWarning: A column-vector y was passed when a 1d array was expected. Please change the shape of y to (n_samples,), for example using ravel().\n",
      "  estimator.fit(X_train, y_train, **fit_params)\n",
      "/home/mchraba/anaconda3/envs/rice_classification/lib/python3.9/site-packages/sklearn/model_selection/_validation.py:680: DataConversionWarning: A column-vector y was passed when a 1d array was expected. Please change the shape of y to (n_samples,), for example using ravel().\n",
      "  estimator.fit(X_train, y_train, **fit_params)\n",
      "/home/mchraba/anaconda3/envs/rice_classification/lib/python3.9/site-packages/sklearn/model_selection/_validation.py:680: DataConversionWarning: A column-vector y was passed when a 1d array was expected. Please change the shape of y to (n_samples,), for example using ravel().\n",
      "  estimator.fit(X_train, y_train, **fit_params)\n",
      "/home/mchraba/anaconda3/envs/rice_classification/lib/python3.9/site-packages/sklearn/model_selection/_validation.py:680: DataConversionWarning: A column-vector y was passed when a 1d array was expected. Please change the shape of y to (n_samples,), for example using ravel().\n",
      "  estimator.fit(X_train, y_train, **fit_params)\n",
      "/home/mchraba/anaconda3/envs/rice_classification/lib/python3.9/site-packages/sklearn/model_selection/_validation.py:680: DataConversionWarning: A column-vector y was passed when a 1d array was expected. Please change the shape of y to (n_samples,), for example using ravel().\n",
      "  estimator.fit(X_train, y_train, **fit_params)\n",
      "/home/mchraba/anaconda3/envs/rice_classification/lib/python3.9/site-packages/sklearn/model_selection/_validation.py:680: DataConversionWarning: A column-vector y was passed when a 1d array was expected. Please change the shape of y to (n_samples,), for example using ravel().\n",
      "  estimator.fit(X_train, y_train, **fit_params)\n",
      "/home/mchraba/anaconda3/envs/rice_classification/lib/python3.9/site-packages/sklearn/model_selection/_validation.py:680: DataConversionWarning: A column-vector y was passed when a 1d array was expected. Please change the shape of y to (n_samples,), for example using ravel().\n",
      "  estimator.fit(X_train, y_train, **fit_params)\n",
      "/home/mchraba/anaconda3/envs/rice_classification/lib/python3.9/site-packages/sklearn/model_selection/_validation.py:680: DataConversionWarning: A column-vector y was passed when a 1d array was expected. Please change the shape of y to (n_samples,), for example using ravel().\n",
      "  estimator.fit(X_train, y_train, **fit_params)\n",
      "/home/mchraba/anaconda3/envs/rice_classification/lib/python3.9/site-packages/sklearn/model_selection/_validation.py:680: DataConversionWarning: A column-vector y was passed when a 1d array was expected. Please change the shape of y to (n_samples,), for example using ravel().\n",
      "  estimator.fit(X_train, y_train, **fit_params)\n",
      "/home/mchraba/anaconda3/envs/rice_classification/lib/python3.9/site-packages/sklearn/model_selection/_validation.py:680: DataConversionWarning: A column-vector y was passed when a 1d array was expected. Please change the shape of y to (n_samples,), for example using ravel().\n",
      "  estimator.fit(X_train, y_train, **fit_params)\n",
      "/home/mchraba/anaconda3/envs/rice_classification/lib/python3.9/site-packages/sklearn/model_selection/_validation.py:680: DataConversionWarning: A column-vector y was passed when a 1d array was expected. Please change the shape of y to (n_samples,), for example using ravel().\n",
      "  estimator.fit(X_train, y_train, **fit_params)\n",
      "/home/mchraba/anaconda3/envs/rice_classification/lib/python3.9/site-packages/sklearn/model_selection/_validation.py:680: DataConversionWarning: A column-vector y was passed when a 1d array was expected. Please change the shape of y to (n_samples,), for example using ravel().\n",
      "  estimator.fit(X_train, y_train, **fit_params)\n",
      "/home/mchraba/anaconda3/envs/rice_classification/lib/python3.9/site-packages/sklearn/model_selection/_validation.py:680: DataConversionWarning: A column-vector y was passed when a 1d array was expected. Please change the shape of y to (n_samples,), for example using ravel().\n",
      "  estimator.fit(X_train, y_train, **fit_params)\n"
     ]
    },
    {
     "name": "stdout",
     "output_type": "stream",
     "text": [
      "Accuracy: 0.995 (0.001)\n"
     ]
    }
   ],
   "source": [
    "model = RF()\n",
    "cv = RepeatedStratifiedKFold(n_splits=10, n_repeats=3, random_state=1)\n",
    "n_scores = cross_val_score(\n",
    "    model,\n",
    "    X_train_4,\n",
    "    Y_train4,\n",
    "    scoring=\"accuracy\",\n",
    "    cv=cv,\n",
    "    n_jobs=-1,\n",
    "    error_score=\"raise\",\n",
    ")\n",
    "\n",
    "print(\"Accuracy: %.3f (%.3f)\" % (mean(n_scores), std(n_scores)))\n",
    "# Accuracy 0.995 - jestesmy bardzo zadowoleni\n"
   ]
  },
  {
   "cell_type": "markdown",
   "metadata": {},
   "source": [
    "#### CZĘŚĆ 4: NAIWNY BAYES "
   ]
  },
  {
   "cell_type": "code",
   "execution_count": 20,
   "metadata": {},
   "outputs": [
    {
     "name": "stdout",
     "output_type": "stream",
     "text": [
      "              precision    recall  f1-score   support\n",
      "\n",
      "     Arborio       0.51      0.34      0.41      1524\n",
      "     Basmati       0.53      0.61      0.57      1488\n",
      "      Ipsala       0.98      0.99      0.99      1513\n",
      "     Jasmine       0.90      0.71      0.79      1480\n",
      "   Karacadag       0.61      0.85      0.71      1495\n",
      "\n",
      "    accuracy                           0.70      7500\n",
      "   macro avg       0.71      0.70      0.69      7500\n",
      "weighted avg       0.71      0.70      0.69      7500\n",
      "\n"
     ]
    }
   ],
   "source": [
    "gnb = GaussianNB()\n",
    "Y_pred = gnb.fit(X_train_4, Y_train4.values.ravel()).predict(X_test_4)\n",
    "\n",
    "print(classification_report(Y_test4, Y_pred))\n"
   ]
  },
  {
   "cell_type": "code",
   "execution_count": 21,
   "metadata": {},
   "outputs": [
    {
     "name": "stdout",
     "output_type": "stream",
     "text": [
      "              precision    recall  f1-score   support\n",
      "\n",
      "     Arborio       0.51      0.34      0.41      1542\n",
      "     Basmati       0.53      0.62      0.57      1485\n",
      "      Ipsala       0.98      0.99      0.98      1452\n",
      "     Jasmine       0.90      0.68      0.77      1485\n",
      "   Karacadag       0.61      0.85      0.71      1536\n",
      "\n",
      "    accuracy                           0.69      7500\n",
      "   macro avg       0.70      0.70      0.69      7500\n",
      "weighted avg       0.70      0.69      0.69      7500\n",
      "\n"
     ]
    }
   ],
   "source": [
    "# Sprawdzmy jeszcze dla wiekszej liczby zmiennych\n",
    "\n",
    "Y_pred_wiecej = gnb.fit(X_train_3, Y_train3.values.ravel()).predict(X_test_3)\n",
    "\n",
    "print(classification_report(Y_test3, Y_pred_wiecej))\n"
   ]
  }
 ],
 "metadata": {
  "interpreter": {
   "hash": "d542276d74bbb177bd5057437d4105b085f20e2fc9dd060565dc5018b9f6cedb"
  },
  "kernelspec": {
   "display_name": "Python 3.9.7 ('rice_classification')",
   "language": "python",
   "name": "python3"
  },
  "language_info": {
   "codemirror_mode": {
    "name": "ipython",
    "version": 3
   },
   "file_extension": ".py",
   "mimetype": "text/x-python",
   "name": "python",
   "nbconvert_exporter": "python",
   "pygments_lexer": "ipython3",
   "version": "3.9.7"
  },
  "orig_nbformat": 4
 },
 "nbformat": 4,
 "nbformat_minor": 2
}
