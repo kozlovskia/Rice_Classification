{
 "cells": [
  {
   "cell_type": "code",
   "execution_count": 1,
   "metadata": {},
   "outputs": [],
   "source": [
    "import sys\n",
    "import numpy as np\n",
    "import pandas as pd\n",
    "import os\n",
    "import seaborn as sns\n",
    "import matplotlib.pyplot as plt\n",
    "import statsmodels.formula.api as sm\n",
    "from sklearn import linear_model\n",
    "from sklearn.neighbors import KNeighborsClassifier\n",
    "from sklearn.metrics import classification_report\n",
    "from sklearn.model_selection import train_test_split\n"
   ]
  },
  {
   "cell_type": "code",
   "execution_count": 2,
   "metadata": {},
   "outputs": [],
   "source": [
    "data = pd.read_excel(r\"../../data/Rice_MSC_Dataset.xlsx\")\n"
   ]
  },
  {
   "cell_type": "code",
   "execution_count": 20,
   "metadata": {},
   "outputs": [],
   "source": [
    "data.to_csv(\"../../data/rice_msc_dataset.csv\", index=False)\n"
   ]
  },
  {
   "cell_type": "code",
   "execution_count": 3,
   "metadata": {},
   "outputs": [
    {
     "data": {
      "text/html": [
       "<div>\n",
       "<style scoped>\n",
       "    .dataframe tbody tr th:only-of-type {\n",
       "        vertical-align: middle;\n",
       "    }\n",
       "\n",
       "    .dataframe tbody tr th {\n",
       "        vertical-align: top;\n",
       "    }\n",
       "\n",
       "    .dataframe thead th {\n",
       "        text-align: right;\n",
       "    }\n",
       "</style>\n",
       "<table border=\"1\" class=\"dataframe\">\n",
       "  <thead>\n",
       "    <tr style=\"text-align: right;\">\n",
       "      <th></th>\n",
       "      <th>AREA</th>\n",
       "      <th>PERIMETER</th>\n",
       "      <th>MAJOR_AXIS</th>\n",
       "      <th>MINOR_AXIS</th>\n",
       "      <th>ECCENTRICITY</th>\n",
       "      <th>EQDIASQ</th>\n",
       "      <th>SOLIDITY</th>\n",
       "      <th>CONVEX_AREA</th>\n",
       "      <th>EXTENT</th>\n",
       "      <th>ASPECT_RATIO</th>\n",
       "      <th>...</th>\n",
       "      <th>ALLdaub4L</th>\n",
       "      <th>ALLdaub4a</th>\n",
       "      <th>ALLdaub4b</th>\n",
       "      <th>ALLdaub4Y</th>\n",
       "      <th>ALLdaub4Cb</th>\n",
       "      <th>ALLdaub4Cr</th>\n",
       "      <th>ALLdaub4XX</th>\n",
       "      <th>ALLdaub4YY</th>\n",
       "      <th>ALLdaub4ZZ</th>\n",
       "      <th>CLASS</th>\n",
       "    </tr>\n",
       "  </thead>\n",
       "  <tbody>\n",
       "    <tr>\n",
       "      <th>0</th>\n",
       "      <td>7805</td>\n",
       "      <td>437.915</td>\n",
       "      <td>209.8215</td>\n",
       "      <td>48.0221</td>\n",
       "      <td>0.9735</td>\n",
       "      <td>99.6877</td>\n",
       "      <td>0.9775</td>\n",
       "      <td>7985</td>\n",
       "      <td>0.3547</td>\n",
       "      <td>4.3693</td>\n",
       "      <td>...</td>\n",
       "      <td>113.9924</td>\n",
       "      <td>65.0610</td>\n",
       "      <td>59.5989</td>\n",
       "      <td>104.8552</td>\n",
       "      <td>67.8779</td>\n",
       "      <td>63.0828</td>\n",
       "      <td>0.3673</td>\n",
       "      <td>0.3793</td>\n",
       "      <td>0.4733</td>\n",
       "      <td>Basmati</td>\n",
       "    </tr>\n",
       "    <tr>\n",
       "      <th>1</th>\n",
       "      <td>7503</td>\n",
       "      <td>340.757</td>\n",
       "      <td>138.3361</td>\n",
       "      <td>69.8417</td>\n",
       "      <td>0.8632</td>\n",
       "      <td>97.7400</td>\n",
       "      <td>0.9660</td>\n",
       "      <td>7767</td>\n",
       "      <td>0.6637</td>\n",
       "      <td>1.9807</td>\n",
       "      <td>...</td>\n",
       "      <td>105.7055</td>\n",
       "      <td>64.3685</td>\n",
       "      <td>62.2084</td>\n",
       "      <td>96.8375</td>\n",
       "      <td>65.5371</td>\n",
       "      <td>63.5832</td>\n",
       "      <td>0.3014</td>\n",
       "      <td>0.3144</td>\n",
       "      <td>0.3641</td>\n",
       "      <td>Arborio</td>\n",
       "    </tr>\n",
       "    <tr>\n",
       "      <th>2</th>\n",
       "      <td>5124</td>\n",
       "      <td>314.617</td>\n",
       "      <td>141.9803</td>\n",
       "      <td>46.5784</td>\n",
       "      <td>0.9447</td>\n",
       "      <td>80.7718</td>\n",
       "      <td>0.9721</td>\n",
       "      <td>5271</td>\n",
       "      <td>0.4760</td>\n",
       "      <td>3.0482</td>\n",
       "      <td>...</td>\n",
       "      <td>109.7155</td>\n",
       "      <td>62.6423</td>\n",
       "      <td>58.7439</td>\n",
       "      <td>100.2352</td>\n",
       "      <td>68.9753</td>\n",
       "      <td>59.8342</td>\n",
       "      <td>0.3233</td>\n",
       "      <td>0.3445</td>\n",
       "      <td>0.4448</td>\n",
       "      <td>Jasmine</td>\n",
       "    </tr>\n",
       "    <tr>\n",
       "      <th>3</th>\n",
       "      <td>7990</td>\n",
       "      <td>437.085</td>\n",
       "      <td>201.4386</td>\n",
       "      <td>51.2245</td>\n",
       "      <td>0.9671</td>\n",
       "      <td>100.8622</td>\n",
       "      <td>0.9659</td>\n",
       "      <td>8272</td>\n",
       "      <td>0.6274</td>\n",
       "      <td>3.9325</td>\n",
       "      <td>...</td>\n",
       "      <td>116.5405</td>\n",
       "      <td>64.9069</td>\n",
       "      <td>60.2562</td>\n",
       "      <td>107.2560</td>\n",
       "      <td>67.3298</td>\n",
       "      <td>63.2237</td>\n",
       "      <td>0.3880</td>\n",
       "      <td>0.4020</td>\n",
       "      <td>0.4904</td>\n",
       "      <td>Basmati</td>\n",
       "    </tr>\n",
       "    <tr>\n",
       "      <th>4</th>\n",
       "      <td>7433</td>\n",
       "      <td>342.893</td>\n",
       "      <td>140.3350</td>\n",
       "      <td>68.3927</td>\n",
       "      <td>0.8732</td>\n",
       "      <td>97.2830</td>\n",
       "      <td>0.9831</td>\n",
       "      <td>7561</td>\n",
       "      <td>0.6006</td>\n",
       "      <td>2.0519</td>\n",
       "      <td>...</td>\n",
       "      <td>107.7502</td>\n",
       "      <td>64.7071</td>\n",
       "      <td>61.3549</td>\n",
       "      <td>98.8704</td>\n",
       "      <td>66.2048</td>\n",
       "      <td>63.5378</td>\n",
       "      <td>0.3184</td>\n",
       "      <td>0.3303</td>\n",
       "      <td>0.3928</td>\n",
       "      <td>Arborio</td>\n",
       "    </tr>\n",
       "  </tbody>\n",
       "</table>\n",
       "<p>5 rows × 107 columns</p>\n",
       "</div>"
      ],
      "text/plain": [
       "   AREA  PERIMETER  MAJOR_AXIS  MINOR_AXIS  ECCENTRICITY   EQDIASQ  SOLIDITY  \\\n",
       "0  7805    437.915    209.8215     48.0221        0.9735   99.6877    0.9775   \n",
       "1  7503    340.757    138.3361     69.8417        0.8632   97.7400    0.9660   \n",
       "2  5124    314.617    141.9803     46.5784        0.9447   80.7718    0.9721   \n",
       "3  7990    437.085    201.4386     51.2245        0.9671  100.8622    0.9659   \n",
       "4  7433    342.893    140.3350     68.3927        0.8732   97.2830    0.9831   \n",
       "\n",
       "   CONVEX_AREA  EXTENT  ASPECT_RATIO  ...  ALLdaub4L  ALLdaub4a  ALLdaub4b  \\\n",
       "0         7985  0.3547        4.3693  ...   113.9924    65.0610    59.5989   \n",
       "1         7767  0.6637        1.9807  ...   105.7055    64.3685    62.2084   \n",
       "2         5271  0.4760        3.0482  ...   109.7155    62.6423    58.7439   \n",
       "3         8272  0.6274        3.9325  ...   116.5405    64.9069    60.2562   \n",
       "4         7561  0.6006        2.0519  ...   107.7502    64.7071    61.3549   \n",
       "\n",
       "   ALLdaub4Y  ALLdaub4Cb  ALLdaub4Cr  ALLdaub4XX  ALLdaub4YY  ALLdaub4ZZ  \\\n",
       "0   104.8552     67.8779     63.0828      0.3673      0.3793      0.4733   \n",
       "1    96.8375     65.5371     63.5832      0.3014      0.3144      0.3641   \n",
       "2   100.2352     68.9753     59.8342      0.3233      0.3445      0.4448   \n",
       "3   107.2560     67.3298     63.2237      0.3880      0.4020      0.4904   \n",
       "4    98.8704     66.2048     63.5378      0.3184      0.3303      0.3928   \n",
       "\n",
       "     CLASS  \n",
       "0  Basmati  \n",
       "1  Arborio  \n",
       "2  Jasmine  \n",
       "3  Basmati  \n",
       "4  Arborio  \n",
       "\n",
       "[5 rows x 107 columns]"
      ]
     },
     "execution_count": 3,
     "metadata": {},
     "output_type": "execute_result"
    }
   ],
   "source": [
    "data.head()\n"
   ]
  },
  {
   "cell_type": "code",
   "execution_count": 4,
   "metadata": {},
   "outputs": [
    {
     "name": "stdout",
     "output_type": "stream",
     "text": [
      "AREA            0\n",
      "PERIMETER       0\n",
      "MAJOR_AXIS      0\n",
      "MINOR_AXIS      0\n",
      "ECCENTRICITY    0\n",
      "               ..\n",
      "ALLdaub4Cr      0\n",
      "ALLdaub4XX      0\n",
      "ALLdaub4YY      0\n",
      "ALLdaub4ZZ      0\n",
      "CLASS           0\n",
      "Length: 107, dtype: int64\n"
     ]
    }
   ],
   "source": [
    "# Sprawdzamy czy są jakieś missing values\n",
    "data.isnull().values.any()  # Są\n",
    "ile_brakuje = data.isnull().sum()\n",
    "print(ile_brakuje)\n"
   ]
  },
  {
   "cell_type": "code",
   "execution_count": 5,
   "metadata": {},
   "outputs": [
    {
     "data": {
      "text/plain": [
       "skewB         6\n",
       "kurtosisB     6\n",
       "skewCb        3\n",
       "skewCr        2\n",
       "kurtosisCb    3\n",
       "kurtosisCr    2\n",
       "dtype: int64"
      ]
     },
     "execution_count": 5,
     "metadata": {},
     "output_type": "execute_result"
    }
   ],
   "source": [
    "ile_brakuje[ile_brakuje > 0]\n"
   ]
  },
  {
   "cell_type": "code",
   "execution_count": 6,
   "metadata": {},
   "outputs": [],
   "source": [
    "# Usunę wiersze z brakującymi wartosciami.\n",
    "\n",
    "data2 = data.dropna()  # Nowe dane\n",
    "len(data.index) - len(\n",
    "    data2.index\n",
    ")  # Czyli było 8 wierszy z brakującymi zmiennymi\n",
    "\n",
    "data2 = data2.reset_index()\n"
   ]
  },
  {
   "cell_type": "code",
   "execution_count": 7,
   "metadata": {},
   "outputs": [
    {
     "data": {
      "image/png": "[encoded data removed]",
      "text/plain": [
       "<Figure size 432x288 with 2 Axes>"
      ]
     },
     "metadata": {},
     "output_type": "display_data"
    }
   ],
   "source": [
    "data3 = data2.drop([\"CLASS\"], axis=1)\n",
    "\n",
    "# Macierz korelacji\n",
    "# Zbadamy skorelowanie poszczególnych zmiennych (docelowo objasniających),\n",
    "# żeby zdecydować których nie ma sensu wspólnie używać przy przewidywaniu rodzaju ryżu.\n",
    "\n",
    "sns.heatmap(data3)  # chyba nie bardzo\n",
    "\n",
    "M = data3.corr()\n"
   ]
  },
  {
   "cell_type": "code",
   "execution_count": 8,
   "metadata": {},
   "outputs": [],
   "source": [
    "M[abs(M) > 0.9] = \"Mocno\"\n"
   ]
  },
  {
   "cell_type": "code",
   "execution_count": 9,
   "metadata": {},
   "outputs": [
    {
     "data": {
      "image/png": "[encoded data removed]",
      "text/plain": [
       "<Figure size 432x288 with 1 Axes>"
      ]
     },
     "metadata": {},
     "output_type": "display_data"
    }
   ],
   "source": [
    "data_powierzchnia = data2[[\"AREA\", \"CLASS\"]]\n",
    "\n",
    "box_area = sns.boxplot(\n",
    "    x=\"CLASS\", y=\"AREA\", data=data_powierzchnia, color=\"#99c2a2\"\n",
    ")\n"
   ]
  },
  {
   "cell_type": "code",
   "execution_count": 10,
   "metadata": {},
   "outputs": [],
   "source": [
    "Ipsala = data_powierzchnia.loc[data_powierzchnia[\"CLASS\"] == \"Ipsala\"]\n",
    "Ipsala = Ipsala.reset_index()\n"
   ]
  },
  {
   "cell_type": "code",
   "execution_count": 11,
   "metadata": {},
   "outputs": [
    {
     "data": {
      "text/plain": [
       "8827"
      ]
     },
     "execution_count": 11,
     "metadata": {},
     "output_type": "execute_result"
    }
   ],
   "source": [
    "Ipsala[(Ipsala[\"AREA\"] > 12500) & (Ipsala[\"AREA\"] < 15000)].shape[\n",
    "    0\n",
    "]  # ponad połowa wartosci w srodku boxplota: 8827\n"
   ]
  },
  {
   "cell_type": "code",
   "execution_count": 12,
   "metadata": {},
   "outputs": [
    {
     "data": {
      "text/plain": [
       "260"
      ]
     },
     "execution_count": 12,
     "metadata": {},
     "output_type": "execute_result"
    }
   ],
   "source": [
    "Ipsala[Ipsala[\"AREA\"] > 17000].shape[0]  # 260\n"
   ]
  },
  {
   "cell_type": "code",
   "execution_count": 13,
   "metadata": {},
   "outputs": [
    {
     "data": {
      "text/plain": [
       "1"
      ]
     },
     "execution_count": 13,
     "metadata": {},
     "output_type": "execute_result"
    }
   ],
   "source": [
    "Ipsala[Ipsala[\"AREA\"] > 20000].shape[0]  # 1 mocny outlier\n"
   ]
  },
  {
   "cell_type": "code",
   "execution_count": 14,
   "metadata": {},
   "outputs": [
    {
     "data": {
      "text/plain": [
       "111"
      ]
     },
     "execution_count": 14,
     "metadata": {},
     "output_type": "execute_result"
    }
   ],
   "source": [
    "Ipsala[Ipsala[\"AREA\"] < 10000].shape[0]  # 111\n"
   ]
  },
  {
   "cell_type": "code",
   "execution_count": 15,
   "metadata": {},
   "outputs": [
    {
     "data": {
      "text/plain": [
       "(14048.670868347339, 14134.0)"
      ]
     },
     "execution_count": 15,
     "metadata": {},
     "output_type": "execute_result"
    }
   ],
   "source": [
    "Ipsala[\"AREA\"].mean(), Ipsala[\"AREA\"].median()\n"
   ]
  },
  {
   "cell_type": "code",
   "execution_count": 16,
   "metadata": {},
   "outputs": [
    {
     "data": {
      "image/png": "[encoded data removed]",
      "text/plain": [
       "<Figure size 432x288 with 1 Axes>"
      ]
     },
     "metadata": {},
     "output_type": "display_data"
    }
   ],
   "source": [
    "ax2 = sns.boxplot(x=\"CLASS\", y=\"AREA\", data=Ipsala, color=\"#99c2a2\")\n"
   ]
  },
  {
   "cell_type": "code",
   "execution_count": 17,
   "metadata": {},
   "outputs": [
    {
     "data": {
      "image/png": "[encoded data removed]",
      "text/plain": [
       "<Figure size 432x288 with 1 Axes>"
      ]
     },
     "metadata": {},
     "output_type": "display_data"
    }
   ],
   "source": [
    "ax = sns.boxplot(x=\"CLASS\", y=\"AREA\", data=data_powierzchnia, color=\"#99c2a2\")\n",
    "# Boxplot stworzony dla wszystkich typów ryżu wskazuje na to, że są istotne różnice w powierzchni jeżeli chodzi o Ipsala, Karacadag, Jasmine,\n",
    "# natomiast zbadanie powierzchni nie odróżni nam od siebie Basmati i Arborio.\n"
   ]
  },
  {
   "cell_type": "code",
   "execution_count": 18,
   "metadata": {},
   "outputs": [
    {
     "data": {
      "image/png": "[encoded data removed]",
      "text/plain": [
       "<Figure size 432x288 with 1 Axes>"
      ]
     },
     "metadata": {},
     "output_type": "display_data"
    }
   ],
   "source": [
    "data_trwalosc = data2[[\"SOLIDITY\", \"CLASS\"]]\n",
    "\n",
    "box_trwalosc = sns.boxplot(\n",
    "    x=\"CLASS\", y=\"SOLIDITY\", data=data_trwalosc, color=\"#99c2a2\"\n",
    ")\n"
   ]
  },
  {
   "cell_type": "code",
   "execution_count": 19,
   "metadata": {},
   "outputs": [
    {
     "name": "stdout",
     "output_type": "stream",
     "text": [
      "              precision    recall  f1-score   support\n",
      "\n",
      "     Arborio       0.48      0.49      0.48      1525\n",
      "     Basmati       0.52      0.51      0.52      1506\n",
      "      Ipsala       0.98      0.98      0.98      1432\n",
      "     Jasmine       0.82      0.83      0.82      1460\n",
      "   Karacadag       0.73      0.71      0.72      1577\n",
      "\n",
      "    accuracy                           0.70      7500\n",
      "   macro avg       0.70      0.70      0.70      7500\n",
      "weighted avg       0.70      0.70      0.70      7500\n",
      "\n"
     ]
    }
   ],
   "source": [
    "# Powinno nam odróżnić basmati od arborio\n",
    "# KNN\n",
    "X, Y = data[[\"AREA\", \"SOLIDITY\"]], data[\"CLASS\"]\n",
    "X_train, X_test, Y_train, Y_test = train_test_split(X, Y, test_size=0.1)\n",
    "\n",
    "knn = KNeighborsClassifier()\n",
    "knn.fit(X_train, Y_train)\n",
    "przewidziane = knn.predict(X_test)\n",
    "\n",
    "print(classification_report(Y_test, przewidziane))\n"
   ]
  }
 ],
 "metadata": {
  "interpreter": {
   "hash": "d542276d74bbb177bd5057437d4105b085f20e2fc9dd060565dc5018b9f6cedb"
  },
  "kernelspec": {
   "display_name": "Python 3.9.7 ('rice_classification')",
   "language": "python",
   "name": "python3"
  },
  "language_info": {
   "codemirror_mode": {
    "name": "ipython",
    "version": 3
   },
   "file_extension": ".py",
   "mimetype": "text/x-python",
   "name": "python",
   "nbconvert_exporter": "python",
   "pygments_lexer": "ipython3",
   "version": "3.9.7"
  },
  "orig_nbformat": 4
 },
 "nbformat": 4,
 "nbformat_minor": 2
}
