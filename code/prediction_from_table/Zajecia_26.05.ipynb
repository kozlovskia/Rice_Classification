{
 "cells": [
  {
   "cell_type": "code",
   "execution_count": 3,
   "id": "ead4cbd7",
   "metadata": {},
   "outputs": [],
   "source": [
    "import sys\n",
    "import numpy as np\n",
    "import pandas as pd\n",
    "import os\n",
    "import seaborn as sns\n",
    "import matplotlib.pyplot as plt\n",
    "import statsmodels.formula.api as sm\n",
    "from sklearn import linear_model\n",
    "from sklearn.neighbors import KNeighborsClassifier\n",
    "from sklearn.metrics import classification_report\n",
    "from sklearn.model_selection import train_test_split\n",
    "from sklearn.feature_selection import SelectKBest\n",
    "from sklearn.feature_selection import chi2\n",
    "from sklearn.feature_selection import f_classif\n",
    "from sklearn.feature_selection import SelectKBest, f_classif, mutual_info_classif as MIC\n",
    "from sklearn.pipeline import make_pipeline\n",
    "from sklearn.svm import LinearSVC\n",
    "from sklearn.metrics import classification_report\n",
    "import matplotlib.pyplot as plt\n",
    "from sklearn.tree import DecisionTreeClassifier as DTC\n",
    "from sklearn.ensemble import RandomForestClassifier as RF\n",
    "from sklearn.datasets import make_classification\n",
    "from sklearn.model_selection import cross_val_score\n",
    "from sklearn.model_selection import RepeatedStratifiedKFold\n",
    "from numpy import mean\n",
    "from numpy import std\n",
    "from sklearn.naive_bayes import GaussianNB"
   ]
  },
  {
   "cell_type": "markdown",
   "id": "8831ef7f",
   "metadata": {},
   "source": [
    "## CZĘŚĆ 1: Podstawowa eksploracja danych\n"
   ]
  },
  {
   "cell_type": "code",
   "execution_count": 4,
   "id": "c64b518b",
   "metadata": {},
   "outputs": [
    {
     "name": "stdout",
     "output_type": "stream",
     "text": [
      "F:\\PYTHON pliki\\projekt WZTUM\n"
     ]
    }
   ],
   "source": [
    "# Wydruk ścieżki do bieżącego katalogu:\n",
    "print(os.getcwd())"
   ]
  },
  {
   "cell_type": "code",
   "execution_count": 5,
   "id": "3c501b63",
   "metadata": {},
   "outputs": [],
   "source": [
    "# Wczytujemy dane\n",
    "data = pd.read_excel(r'F:\\\\PYTHON pliki\\\\projekt WZTUM\\\\Rice_MSC_Dataset.xlsx')"
   ]
  },
  {
   "cell_type": "code",
   "execution_count": 6,
   "id": "eba1984f",
   "metadata": {},
   "outputs": [
    {
     "data": {
      "text/html": [
       "<div>\n",
       "<style scoped>\n",
       "    .dataframe tbody tr th:only-of-type {\n",
       "        vertical-align: middle;\n",
       "    }\n",
       "\n",
       "    .dataframe tbody tr th {\n",
       "        vertical-align: top;\n",
       "    }\n",
       "\n",
       "    .dataframe thead th {\n",
       "        text-align: right;\n",
       "    }\n",
       "</style>\n",
       "<table border=\"1\" class=\"dataframe\">\n",
       "  <thead>\n",
       "    <tr style=\"text-align: right;\">\n",
       "      <th></th>\n",
       "      <th>AREA</th>\n",
       "      <th>PERIMETER</th>\n",
       "      <th>MAJOR_AXIS</th>\n",
       "      <th>MINOR_AXIS</th>\n",
       "      <th>ECCENTRICITY</th>\n",
       "      <th>EQDIASQ</th>\n",
       "      <th>SOLIDITY</th>\n",
       "      <th>CONVEX_AREA</th>\n",
       "      <th>EXTENT</th>\n",
       "      <th>ASPECT_RATIO</th>\n",
       "      <th>...</th>\n",
       "      <th>ALLdaub4L</th>\n",
       "      <th>ALLdaub4a</th>\n",
       "      <th>ALLdaub4b</th>\n",
       "      <th>ALLdaub4Y</th>\n",
       "      <th>ALLdaub4Cb</th>\n",
       "      <th>ALLdaub4Cr</th>\n",
       "      <th>ALLdaub4XX</th>\n",
       "      <th>ALLdaub4YY</th>\n",
       "      <th>ALLdaub4ZZ</th>\n",
       "      <th>CLASS</th>\n",
       "    </tr>\n",
       "  </thead>\n",
       "  <tbody>\n",
       "    <tr>\n",
       "      <th>0</th>\n",
       "      <td>7805</td>\n",
       "      <td>437.915</td>\n",
       "      <td>209.8215</td>\n",
       "      <td>48.0221</td>\n",
       "      <td>0.9735</td>\n",
       "      <td>99.6877</td>\n",
       "      <td>0.9775</td>\n",
       "      <td>7985</td>\n",
       "      <td>0.3547</td>\n",
       "      <td>4.3693</td>\n",
       "      <td>...</td>\n",
       "      <td>113.9924</td>\n",
       "      <td>65.0610</td>\n",
       "      <td>59.5989</td>\n",
       "      <td>104.8552</td>\n",
       "      <td>67.8779</td>\n",
       "      <td>63.0828</td>\n",
       "      <td>0.3673</td>\n",
       "      <td>0.3793</td>\n",
       "      <td>0.4733</td>\n",
       "      <td>Basmati</td>\n",
       "    </tr>\n",
       "    <tr>\n",
       "      <th>1</th>\n",
       "      <td>7503</td>\n",
       "      <td>340.757</td>\n",
       "      <td>138.3361</td>\n",
       "      <td>69.8417</td>\n",
       "      <td>0.8632</td>\n",
       "      <td>97.7400</td>\n",
       "      <td>0.9660</td>\n",
       "      <td>7767</td>\n",
       "      <td>0.6637</td>\n",
       "      <td>1.9807</td>\n",
       "      <td>...</td>\n",
       "      <td>105.7055</td>\n",
       "      <td>64.3685</td>\n",
       "      <td>62.2084</td>\n",
       "      <td>96.8375</td>\n",
       "      <td>65.5371</td>\n",
       "      <td>63.5832</td>\n",
       "      <td>0.3014</td>\n",
       "      <td>0.3144</td>\n",
       "      <td>0.3641</td>\n",
       "      <td>Arborio</td>\n",
       "    </tr>\n",
       "    <tr>\n",
       "      <th>2</th>\n",
       "      <td>5124</td>\n",
       "      <td>314.617</td>\n",
       "      <td>141.9803</td>\n",
       "      <td>46.5784</td>\n",
       "      <td>0.9447</td>\n",
       "      <td>80.7718</td>\n",
       "      <td>0.9721</td>\n",
       "      <td>5271</td>\n",
       "      <td>0.4760</td>\n",
       "      <td>3.0482</td>\n",
       "      <td>...</td>\n",
       "      <td>109.7155</td>\n",
       "      <td>62.6423</td>\n",
       "      <td>58.7439</td>\n",
       "      <td>100.2352</td>\n",
       "      <td>68.9753</td>\n",
       "      <td>59.8342</td>\n",
       "      <td>0.3233</td>\n",
       "      <td>0.3445</td>\n",
       "      <td>0.4448</td>\n",
       "      <td>Jasmine</td>\n",
       "    </tr>\n",
       "    <tr>\n",
       "      <th>3</th>\n",
       "      <td>7990</td>\n",
       "      <td>437.085</td>\n",
       "      <td>201.4386</td>\n",
       "      <td>51.2245</td>\n",
       "      <td>0.9671</td>\n",
       "      <td>100.8622</td>\n",
       "      <td>0.9659</td>\n",
       "      <td>8272</td>\n",
       "      <td>0.6274</td>\n",
       "      <td>3.9325</td>\n",
       "      <td>...</td>\n",
       "      <td>116.5405</td>\n",
       "      <td>64.9069</td>\n",
       "      <td>60.2562</td>\n",
       "      <td>107.2560</td>\n",
       "      <td>67.3298</td>\n",
       "      <td>63.2237</td>\n",
       "      <td>0.3880</td>\n",
       "      <td>0.4020</td>\n",
       "      <td>0.4904</td>\n",
       "      <td>Basmati</td>\n",
       "    </tr>\n",
       "    <tr>\n",
       "      <th>4</th>\n",
       "      <td>7433</td>\n",
       "      <td>342.893</td>\n",
       "      <td>140.3350</td>\n",
       "      <td>68.3927</td>\n",
       "      <td>0.8732</td>\n",
       "      <td>97.2830</td>\n",
       "      <td>0.9831</td>\n",
       "      <td>7561</td>\n",
       "      <td>0.6006</td>\n",
       "      <td>2.0519</td>\n",
       "      <td>...</td>\n",
       "      <td>107.7502</td>\n",
       "      <td>64.7071</td>\n",
       "      <td>61.3549</td>\n",
       "      <td>98.8704</td>\n",
       "      <td>66.2048</td>\n",
       "      <td>63.5378</td>\n",
       "      <td>0.3184</td>\n",
       "      <td>0.3303</td>\n",
       "      <td>0.3928</td>\n",
       "      <td>Arborio</td>\n",
       "    </tr>\n",
       "  </tbody>\n",
       "</table>\n",
       "<p>5 rows × 107 columns</p>\n",
       "</div>"
      ],
      "text/plain": [
       "   AREA  PERIMETER  MAJOR_AXIS  MINOR_AXIS  ECCENTRICITY   EQDIASQ  SOLIDITY  \\\n",
       "0  7805    437.915    209.8215     48.0221        0.9735   99.6877    0.9775   \n",
       "1  7503    340.757    138.3361     69.8417        0.8632   97.7400    0.9660   \n",
       "2  5124    314.617    141.9803     46.5784        0.9447   80.7718    0.9721   \n",
       "3  7990    437.085    201.4386     51.2245        0.9671  100.8622    0.9659   \n",
       "4  7433    342.893    140.3350     68.3927        0.8732   97.2830    0.9831   \n",
       "\n",
       "   CONVEX_AREA  EXTENT  ASPECT_RATIO  ...  ALLdaub4L  ALLdaub4a  ALLdaub4b  \\\n",
       "0         7985  0.3547        4.3693  ...   113.9924    65.0610    59.5989   \n",
       "1         7767  0.6637        1.9807  ...   105.7055    64.3685    62.2084   \n",
       "2         5271  0.4760        3.0482  ...   109.7155    62.6423    58.7439   \n",
       "3         8272  0.6274        3.9325  ...   116.5405    64.9069    60.2562   \n",
       "4         7561  0.6006        2.0519  ...   107.7502    64.7071    61.3549   \n",
       "\n",
       "   ALLdaub4Y  ALLdaub4Cb  ALLdaub4Cr  ALLdaub4XX  ALLdaub4YY  ALLdaub4ZZ  \\\n",
       "0   104.8552     67.8779     63.0828      0.3673      0.3793      0.4733   \n",
       "1    96.8375     65.5371     63.5832      0.3014      0.3144      0.3641   \n",
       "2   100.2352     68.9753     59.8342      0.3233      0.3445      0.4448   \n",
       "3   107.2560     67.3298     63.2237      0.3880      0.4020      0.4904   \n",
       "4    98.8704     66.2048     63.5378      0.3184      0.3303      0.3928   \n",
       "\n",
       "     CLASS  \n",
       "0  Basmati  \n",
       "1  Arborio  \n",
       "2  Jasmine  \n",
       "3  Basmati  \n",
       "4  Arborio  \n",
       "\n",
       "[5 rows x 107 columns]"
      ]
     },
     "execution_count": 6,
     "metadata": {},
     "output_type": "execute_result"
    }
   ],
   "source": [
    "data.head()"
   ]
  },
  {
   "cell_type": "code",
   "execution_count": 7,
   "id": "507e2382",
   "metadata": {},
   "outputs": [
    {
     "data": {
      "text/plain": [
       "True"
      ]
     },
     "execution_count": 7,
     "metadata": {},
     "output_type": "execute_result"
    }
   ],
   "source": [
    "# Sprawdzamy czy są jakieś missing values\n",
    "data.isnull().values.any() # Są"
   ]
  },
  {
   "cell_type": "code",
   "execution_count": 11,
   "id": "7871d24f",
   "metadata": {},
   "outputs": [
    {
     "data": {
      "text/plain": [
       "skewB         6\n",
       "kurtosisB     6\n",
       "skewCb        3\n",
       "skewCr        2\n",
       "kurtosisCb    3\n",
       "kurtosisCr    2\n",
       "dtype: int64"
      ]
     },
     "execution_count": 11,
     "metadata": {},
     "output_type": "execute_result"
    }
   ],
   "source": [
    "ile_brakuje = data.isnull().sum()\n",
    "# Zmienne dla których są jakies brakujące wartosci\n",
    "ile_brakuje[ile_brakuje > 0] "
   ]
  },
  {
   "cell_type": "code",
   "execution_count": 12,
   "id": "e2db59cc",
   "metadata": {},
   "outputs": [],
   "source": [
    "# Usunę wiersze z brakującymi wartosciami.\n",
    "data2 = data.dropna() # Nowe dane\n",
    "len(data.index) - len(data2.index) \n",
    "# Czyli było 8 wierszy z brakującymi zmiennymi\n",
    "data2 = data2.reset_index()"
   ]
  },
  {
   "cell_type": "code",
   "execution_count": 13,
   "id": "9e54b4da",
   "metadata": {},
   "outputs": [],
   "source": [
    "# Tworzymy roboczy zbiór danych bez ostatniej kolumny\n",
    "data3 = data2.drop(['CLASS'], axis=1)\n",
    "data3 = data3.drop(['index'], axis=1)\n",
    "data4 = data2[['CLASS']]"
   ]
  },
  {
   "cell_type": "code",
   "execution_count": 14,
   "id": "e66b641b",
   "metadata": {},
   "outputs": [
    {
     "data": {
      "image/png": "[encoded data removed]",
      "text/plain": [
       "<Figure size 432x288 with 1 Axes>"
      ]
     },
     "metadata": {
      "needs_background": "light"
     },
     "output_type": "display_data"
    }
   ],
   "source": [
    "# Rysujemy boxploty dotyczące AREA dla różnych rodzajów ryżu\n",
    "data_powierzchnia = data2[['AREA','CLASS']]\n",
    "box_area = sns.boxplot(x='CLASS', y='AREA', data=data_powierzchnia, color='#99c2a2')"
   ]
  },
  {
   "cell_type": "code",
   "execution_count": 15,
   "id": "5d811aa9",
   "metadata": {},
   "outputs": [],
   "source": [
    "Ipsala = data_powierzchnia.loc[data_powierzchnia['CLASS'] == 'Ipsala']\n",
    "Ipsala = Ipsala.reset_index()"
   ]
  },
  {
   "cell_type": "code",
   "execution_count": 16,
   "id": "8abcf271",
   "metadata": {},
   "outputs": [
    {
     "data": {
      "text/plain": [
       "8827"
      ]
     },
     "execution_count": 16,
     "metadata": {},
     "output_type": "execute_result"
    }
   ],
   "source": [
    "Ipsala[(Ipsala['AREA'] > 12500) & (Ipsala['AREA'] < 15000)].shape[0] \n",
    "# Ponad połowa wartosci w srodku boxplota"
   ]
  },
  {
   "cell_type": "code",
   "execution_count": 18,
   "id": "68c09990",
   "metadata": {},
   "outputs": [
    {
     "data": {
      "text/plain": [
       "1"
      ]
     },
     "execution_count": 18,
     "metadata": {},
     "output_type": "execute_result"
    }
   ],
   "source": [
    "Ipsala[Ipsala['AREA'] > 20000].shape[0] #jeden mocny outlier"
   ]
  },
  {
   "cell_type": "code",
   "execution_count": 22,
   "id": "fdbe744f",
   "metadata": {},
   "outputs": [
    {
     "data": {
      "image/png": "[encoded data removed]",
      "text/plain": [
       "<Figure size 432x288 with 1 Axes>"
      ]
     },
     "metadata": {
      "needs_background": "light"
     },
     "output_type": "display_data"
    }
   ],
   "source": [
    "ax = sns.boxplot(x='CLASS', y='AREA', data=data_powierzchnia, color='#99c2a2')\n",
    "\n",
    "# Boxplot stworzony dla wszystkich typów ryżu wskazuje na to, że są istotne różnice w powierzchni jeżeli chodzi o Ipsala, \n",
    "# Karacadag, Jasmine, natomiast zbadanie powierzchni nie odróżni nam od siebie Basmati i Arborio."
   ]
  },
  {
   "cell_type": "code",
   "execution_count": 21,
   "id": "7e1d3bf3",
   "metadata": {},
   "outputs": [
    {
     "data": {
      "image/png": "[encoded data removed]",
      "text/plain": [
       "<Figure size 432x288 with 1 Axes>"
      ]
     },
     "metadata": {
      "needs_background": "light"
     },
     "output_type": "display_data"
    }
   ],
   "source": [
    "ax2 = sns.boxplot(x='CLASS', y='AREA', data=Ipsala, color='#99c2a2')"
   ]
  },
  {
   "cell_type": "code",
   "execution_count": 23,
   "id": "e0dab1f6",
   "metadata": {},
   "outputs": [
    {
     "data": {
      "image/png": "[encoded data removed]",
      "text/plain": [
       "<Figure size 432x288 with 1 Axes>"
      ]
     },
     "metadata": {
      "needs_background": "light"
     },
     "output_type": "display_data"
    }
   ],
   "source": [
    "# Weźmiemy jeszcze trwałosć, żeby może odróżnić dwa pozostałe rodzaje ryżu\n",
    "data_trwalosc = data2[['SOLIDITY','CLASS']]\n",
    "box_trwalosc = sns.boxplot(x='CLASS', y='SOLIDITY', data=data_trwalosc, color='#99c2a2')\n",
    "# Powinno nam odróżnić basmati od arborio"
   ]
  },
  {
   "cell_type": "markdown",
   "id": "0af81d7d",
   "metadata": {},
   "source": [
    "## CZĘŚĆ 2: Feature selection - DRZEWA DECYZYJNE"
   ]
  },
  {
   "cell_type": "code",
   "execution_count": 25,
   "id": "0e25186e",
   "metadata": {},
   "outputs": [
    {
     "data": {
      "text/plain": [
       "array([0.91901151, 0.95115715, 0.94207252, 0.97876968, 1.28353787,\n",
       "       0.91951345, 0.22232464, 0.91937052, 0.49268341, 1.28739978,\n",
       "       1.31841648, 1.29496299, 0.98262784, 0.92358167, 1.29544359,\n",
       "       0.20561015, 0.55021114, 0.52075333, 0.28591908, 0.62462705,\n",
       "       0.62808069, 0.61377716, 0.37511475, 0.40668488, 0.331232  ,\n",
       "       0.53853324, 0.56704554, 0.48228951, 0.81185684, 0.86204631,\n",
       "       0.83396924, 0.58281681, 0.6140111 , 0.35012825, 0.32637466,\n",
       "       0.56770102, 0.66507367, 0.31319996, 0.43432834, 0.40580941,\n",
       "       0.20110009, 0.29884945, 0.56564246, 0.54704525, 0.52988921,\n",
       "       0.31685941, 0.52121097, 0.77444628, 0.88335289, 0.64316526,\n",
       "       0.53040393, 0.57462826, 0.39065008, 0.44239787, 0.44214293,\n",
       "       0.55207967, 0.17992035, 0.28419645, 0.86976945, 0.83947572,\n",
       "       0.90283955, 0.51278402, 0.8726341 , 0.4784214 , 0.63018546,\n",
       "       0.57689486, 0.38565882, 0.36435076, 0.43365129, 0.2210719 ,\n",
       "       0.54627638, 0.23459107, 0.18389993, 0.86312912, 0.82595512,\n",
       "       0.85518271, 0.48714742, 0.5073032 , 0.29263735, 0.48865844,\n",
       "       0.47485543, 0.53094926, 0.26737739, 0.32112446, 0.23606723,\n",
       "       0.56321906, 0.58061623, 0.49063206, 0.62401948, 0.41032931,\n",
       "       0.33797558, 0.54802729, 0.52121779, 0.28972369, 0.58043661,\n",
       "       0.60829932, 0.35231901, 0.521524  , 0.77738867, 0.88068523,\n",
       "       0.51233503, 0.87457025, 0.47708846, 0.48942405, 0.5100745 ,\n",
       "       0.28732472])"
      ]
     },
     "execution_count": 25,
     "metadata": {},
     "output_type": "execute_result"
    }
   ],
   "source": [
    "X_train, X_test, Y_train, Y_test = train_test_split(data3, data4, test_size=0.1)\n",
    "mi_score = MIC(X_train, Y_train.values.ravel())\n",
    "mi_score"
   ]
  },
  {
   "cell_type": "code",
   "execution_count": 26,
   "id": "7b1f7390",
   "metadata": {},
   "outputs": [
    {
     "data": {
      "text/plain": [
       "(array([14., 15., 21., 26.,  2.,  8., 13.,  2.,  0.,  5.]),\n",
       " array([0.17992035, 0.29376996, 0.40761958, 0.52146919, 0.6353188 ,\n",
       "        0.74916842, 0.86301803, 0.97686764, 1.09071725, 1.20456687,\n",
       "        1.31841648]),\n",
       " <BarContainer object of 10 artists>)"
      ]
     },
     "execution_count": 26,
     "metadata": {},
     "output_type": "execute_result"
    },
    {
     "data": {
      "image/png": "[encoded data removed]",
      "text/plain": [
       "<Figure size 432x288 with 1 Axes>"
      ]
     },
     "metadata": {
      "needs_background": "light"
     },
     "output_type": "display_data"
    }
   ],
   "source": [
    "np.histogram(mi_score)\n",
    "plt.hist(mi_score) \n",
    "# Widzimy, że najwięcej zmiennych wpada w przedział [0.4,0.6]"
   ]
  },
  {
   "cell_type": "code",
   "execution_count": 27,
   "id": "4f2d31f0",
   "metadata": {},
   "outputs": [],
   "source": [
    "# Wybiorę zmienne, które mają mi_score > 0.5\n",
    "mi_score_selected_index = np.where(mi_score > 0.5)[0] \n",
    "# Wybieram zmienne z odpowiednio dużym mi_score\n",
    "X_2 = data3[data3.columns[mi_score_selected_index - 1]] "
   ]
  },
  {
   "cell_type": "code",
   "execution_count": 28,
   "id": "f9669e9a",
   "metadata": {},
   "outputs": [],
   "source": [
    "X_train_2, X_test_2, Y_train2, Y_test2 = train_test_split(X_2, data4, test_size=0.1)\n",
    "\n",
    "model_1 = DTC().fit(X_train,Y_train)\n",
    "model_2 = DTC().fit(X_train_2,Y_train2)"
   ]
  },
  {
   "cell_type": "code",
   "execution_count": 31,
   "id": "6ecdb068",
   "metadata": {},
   "outputs": [
    {
     "data": {
      "text/plain": [
       "0.9962666666666666"
      ]
     },
     "execution_count": 31,
     "metadata": {},
     "output_type": "execute_result"
    }
   ],
   "source": [
    "score_1 = model_1.score(X_test,Y_test)\n",
    "score_1"
   ]
  },
  {
   "cell_type": "code",
   "execution_count": 32,
   "id": "0f56e2bd",
   "metadata": {},
   "outputs": [
    {
     "data": {
      "text/plain": [
       "0.9968"
      ]
     },
     "execution_count": 32,
     "metadata": {},
     "output_type": "execute_result"
    }
   ],
   "source": [
    "score_2 = model_2.score(X_test_2,Y_test2)\n",
    "score_2"
   ]
  },
  {
   "cell_type": "code",
   "execution_count": 34,
   "id": "beb372d2",
   "metadata": {},
   "outputs": [
    {
     "data": {
      "text/plain": [
       "63"
      ]
     },
     "execution_count": 34,
     "metadata": {},
     "output_type": "execute_result"
    }
   ],
   "source": [
    "# Liczba zmiennych objasniajacych które zostały:    \n",
    "len(data3.columns[mi_score_selected_index - 1]) \n",
    "# Czyli widzimy, że pomimo usunięcia 63 zmiennych, model praktycznie nie stracił na jakosci"
   ]
  },
  {
   "cell_type": "code",
   "execution_count": 35,
   "id": "5d6af029",
   "metadata": {},
   "outputs": [
    {
     "data": {
      "text/plain": [
       "0.9929333333333333"
      ]
     },
     "execution_count": 35,
     "metadata": {},
     "output_type": "execute_result"
    }
   ],
   "source": [
    "# Idziemy dalej\n",
    "mi_score_selected_index2 = np.where(mi_score > 0.8)[0] \n",
    "X_3 = data3[data3.columns[mi_score_selected_index2 - 1]] \n",
    "X_train_3, X_test_3, Y_train3, Y_test3 = train_test_split(X_3, data4, test_size=0.1)\n",
    "model_3 = DTC().fit(X_train_3,Y_train3)\n",
    "score_3 = model_3.score(X_test_3,Y_test3)\n",
    "score_3"
   ]
  },
  {
   "cell_type": "code",
   "execution_count": 36,
   "id": "3d415eb2",
   "metadata": {},
   "outputs": [
    {
     "data": {
      "text/plain": [
       "26"
      ]
     },
     "execution_count": 36,
     "metadata": {},
     "output_type": "execute_result"
    }
   ],
   "source": [
    "# Liczba zmiennych objasniajacych które zostały:\n",
    "len(data3.columns[mi_score_selected_index2 - 1])"
   ]
  },
  {
   "cell_type": "code",
   "execution_count": 37,
   "id": "c0d0d70d",
   "metadata": {},
   "outputs": [
    {
     "data": {
      "text/plain": [
       "0.9916"
      ]
     },
     "execution_count": 37,
     "metadata": {},
     "output_type": "execute_result"
    }
   ],
   "source": [
    "# Wciąż jest bardzo dobrze, idziemy dalej.\n",
    "mi_score_selected_index3 = np.where(mi_score > 0.95)[0]\n",
    "X_4 = data3[data3.columns[mi_score_selected_index2 - 1]] \n",
    "X_train_4, X_test_4, Y_train4, Y_test4 = train_test_split(X_4, data4, test_size=0.1)\n",
    "model_4 = DTC().fit(X_train_4,Y_train4)\n",
    "score_4 = model_4.score(X_test_4,Y_test4)\n",
    "score_4"
   ]
  },
  {
   "cell_type": "code",
   "execution_count": 38,
   "id": "220b6ce7",
   "metadata": {},
   "outputs": [
    {
     "data": {
      "text/plain": [
       "8"
      ]
     },
     "execution_count": 38,
     "metadata": {},
     "output_type": "execute_result"
    }
   ],
   "source": [
    "# Liczba zmiennych objasniajacych które zostały:\n",
    "len(data3.columns[mi_score_selected_index3 - 1])\n",
    "# Zostawiamy te 8 zmiennych."
   ]
  },
  {
   "cell_type": "markdown",
   "id": "604d0c79",
   "metadata": {},
   "source": [
    "## CZĘŚĆ 3: LASY LOSOWE"
   ]
  },
  {
   "cell_type": "code",
   "execution_count": 39,
   "id": "1a6fa05a",
   "metadata": {},
   "outputs": [
    {
     "name": "stdout",
     "output_type": "stream",
     "text": [
      "Accuracy: 0.995 (0.001)\n"
     ]
    }
   ],
   "source": [
    "model = RF()\n",
    "cv = RepeatedStratifiedKFold(n_splits=10, n_repeats=3, random_state=1)\n",
    "n_scores = cross_val_score(model, X_train_4, Y_train4, scoring='accuracy', cv=cv, n_jobs=-1, error_score='raise')\n",
    "\n",
    "print('Accuracy: %.3f (%.3f)' % (mean(n_scores), std(n_scores)))"
   ]
  },
  {
   "cell_type": "code",
   "execution_count": 40,
   "id": "6ac9290b",
   "metadata": {},
   "outputs": [
    {
     "name": "stdout",
     "output_type": "stream",
     "text": [
      "Accuracy: 0.999 (0.000)\n"
     ]
    }
   ],
   "source": [
    "X_train, X_test, Y_train, Y_test = train_test_split(data3, data4, test_size=0.1)\n",
    "n_scores_2 = cross_val_score(model, X_train, Y_train, scoring='accuracy', cv=cv, n_jobs=-1, error_score='raise')\n",
    "\n",
    "print('Accuracy: %.3f (%.3f)' % (mean(n_scores_2), std(n_scores_2)))"
   ]
  },
  {
   "cell_type": "markdown",
   "id": "ef0f8c41",
   "metadata": {},
   "source": [
    "## CZĘŚĆ 4: NAIWNY BAYES"
   ]
  },
  {
   "cell_type": "code",
   "execution_count": 41,
   "id": "ce3344e7",
   "metadata": {},
   "outputs": [
    {
     "name": "stdout",
     "output_type": "stream",
     "text": [
      "              precision    recall  f1-score   support\n",
      "\n",
      "     Arborio       0.47      0.30      0.37      1478\n",
      "     Basmati       0.52      0.61      0.56      1509\n",
      "      Ipsala       0.98      0.99      0.98      1543\n",
      "     Jasmine       0.90      0.68      0.77      1480\n",
      "   Karacadag       0.60      0.85      0.70      1490\n",
      "\n",
      "    accuracy                           0.69      7500\n",
      "   macro avg       0.69      0.69      0.68      7500\n",
      "weighted avg       0.70      0.69      0.68      7500\n",
      "\n"
     ]
    }
   ],
   "source": [
    "gnb = GaussianNB()\n",
    "Y_pred = gnb.fit(X_train_4, Y_train4.values.ravel()).predict(X_test_4)\n",
    "\n",
    "print(classification_report(Y_test4, Y_pred))"
   ]
  },
  {
   "cell_type": "code",
   "execution_count": 42,
   "id": "e3e79b47",
   "metadata": {},
   "outputs": [
    {
     "name": "stdout",
     "output_type": "stream",
     "text": [
      "              precision    recall  f1-score   support\n",
      "\n",
      "     Arborio       0.49      0.33      0.40      1474\n",
      "     Basmati       0.54      0.62      0.58      1540\n",
      "      Ipsala       0.98      0.99      0.98      1465\n",
      "     Jasmine       0.90      0.68      0.78      1470\n",
      "   Karacadag       0.61      0.85      0.71      1551\n",
      "\n",
      "    accuracy                           0.69      7500\n",
      "   macro avg       0.70      0.69      0.69      7500\n",
      "weighted avg       0.70      0.69      0.69      7500\n",
      "\n"
     ]
    }
   ],
   "source": [
    "# Sprawdźmy jeszcze dla wiekszej liczby zmiennych\n",
    "Y_pred_wiecej = gnb.fit(X_train_3, Y_train3.values.ravel()).predict(X_test_3)\n",
    "\n",
    "print(classification_report(Y_test3, Y_pred_wiecej))"
   ]
  },
  {
   "cell_type": "code",
   "execution_count": 43,
   "id": "81179fb5",
   "metadata": {},
   "outputs": [
    {
     "name": "stdout",
     "output_type": "stream",
     "text": [
      "              precision    recall  f1-score   support\n",
      "\n",
      "     Arborio       0.78      0.53      0.63      1503\n",
      "     Basmati       0.65      0.73      0.69      1548\n",
      "      Ipsala       0.98      0.99      0.99      1492\n",
      "     Jasmine       0.91      0.68      0.78      1483\n",
      "   Karacadag       0.60      0.87      0.71      1474\n",
      "\n",
      "    accuracy                           0.76      7500\n",
      "   macro avg       0.78      0.76      0.76      7500\n",
      "weighted avg       0.78      0.76      0.76      7500\n",
      "\n"
     ]
    }
   ],
   "source": [
    "Y_pred_wiecej_2 = gnb.fit(X_train, Y_train.values.ravel()).predict(X_test)\n",
    "\n",
    "print(classification_report(Y_test, Y_pred_wiecej_2))"
   ]
  },
  {
   "cell_type": "markdown",
   "id": "31f81e6b",
   "metadata": {},
   "source": [
    "## CZĘŚĆ 5: KNN"
   ]
  },
  {
   "cell_type": "code",
   "execution_count": 44,
   "id": "495ab5ec",
   "metadata": {},
   "outputs": [
    {
     "name": "stderr",
     "output_type": "stream",
     "text": [
      "F:\\anaconda\\lib\\site-packages\\sklearn\\neighbors\\_classification.py:179: DataConversionWarning: A column-vector y was passed when a 1d array was expected. Please change the shape of y to (n_samples,), for example using ravel().\n",
      "  return self._fit(X, y)\n"
     ]
    },
    {
     "name": "stdout",
     "output_type": "stream",
     "text": [
      "              precision    recall  f1-score   support\n",
      "\n",
      "     Arborio       0.88      0.89      0.88      1491\n",
      "     Basmati       0.87      0.81      0.84      1527\n",
      "      Ipsala       1.00      1.00      1.00      1434\n",
      "     Jasmine       0.91      0.96      0.94      1557\n",
      "   Karacadag       0.86      0.86      0.86      1491\n",
      "\n",
      "    accuracy                           0.90      7500\n",
      "   macro avg       0.90      0.90      0.90      7500\n",
      "weighted avg       0.90      0.90      0.90      7500\n",
      "\n"
     ]
    }
   ],
   "source": [
    "# Dla wybranych 8 zmiennych\n",
    "X_train_4, X_test_4, Y_train4, Y_test4 = train_test_split(X_4, data4, test_size=0.1)\n",
    "\n",
    "knn_2 = KNeighborsClassifier()\n",
    "knn_2.fit(X_train_4, Y_train4)\n",
    "przewidziane_2 = knn_2.predict(X_test_4)\n",
    "\n",
    "print(classification_report(Y_test4, przewidziane_2))"
   ]
  },
  {
   "cell_type": "code",
   "execution_count": 45,
   "id": "e244f4f6",
   "metadata": {},
   "outputs": [
    {
     "name": "stderr",
     "output_type": "stream",
     "text": [
      "F:\\anaconda\\lib\\site-packages\\sklearn\\neighbors\\_classification.py:179: DataConversionWarning: A column-vector y was passed when a 1d array was expected. Please change the shape of y to (n_samples,), for example using ravel().\n",
      "  return self._fit(X, y)\n"
     ]
    },
    {
     "name": "stdout",
     "output_type": "stream",
     "text": [
      "              precision    recall  f1-score   support\n",
      "\n",
      "     Arborio       0.92      0.94      0.93      1503\n",
      "     Basmati       0.89      0.85      0.87      1548\n",
      "      Ipsala       1.00      1.00      1.00      1492\n",
      "     Jasmine       0.93      0.97      0.95      1483\n",
      "   Karacadag       0.88      0.86      0.87      1474\n",
      "\n",
      "    accuracy                           0.92      7500\n",
      "   macro avg       0.92      0.92      0.92      7500\n",
      "weighted avg       0.92      0.92      0.92      7500\n",
      "\n"
     ]
    }
   ],
   "source": [
    "knn_3=KNeighborsClassifier()\n",
    "knn_3.fit(X_train, Y_train)\n",
    "przewidziane_3 = knn_3.predict(X_test)\n",
    "\n",
    "print(classification_report(Y_test, przewidziane_3))"
   ]
  },
  {
   "cell_type": "markdown",
   "id": "7f762073",
   "metadata": {},
   "source": [
    "## CZĘŚĆ 6: MODEL LINIOWY - REGRESJA LOGISTYCZNA "
   ]
  },
  {
   "cell_type": "code",
   "execution_count": 46,
   "id": "73900a67",
   "metadata": {},
   "outputs": [],
   "source": [
    "# Dla 8 zmiennych\n",
    "from sklearn.linear_model import LogisticRegression\n",
    "from sklearn.datasets import make_classification\n",
    "from sklearn.model_selection import cross_val_score\n",
    "from sklearn.model_selection import RepeatedStratifiedKFold"
   ]
  },
  {
   "cell_type": "code",
   "execution_count": 57,
   "id": "01d0c412",
   "metadata": {},
   "outputs": [
    {
     "name": "stdout",
     "output_type": "stream",
     "text": [
      "Mean Accuracy: 0.831 (0.004)\n"
     ]
    }
   ],
   "source": [
    "model = LogisticRegression(multi_class='multinomial', solver='newton-cg')\n",
    "cv = RepeatedStratifiedKFold(n_splits=10, n_repeats=5, random_state=1)\n",
    "n_scores = cross_val_score(model, X_train_4, Y_train4, scoring='accuracy', cv=cv, n_jobs=-1)\n",
    "\n",
    "print('Mean Accuracy: %.3f (%.3f)' % (mean(n_scores), std(n_scores)))"
   ]
  },
  {
   "cell_type": "code",
   "execution_count": 58,
   "id": "33e5b68e",
   "metadata": {},
   "outputs": [
    {
     "name": "stderr",
     "output_type": "stream",
     "text": [
      "F:\\anaconda\\lib\\site-packages\\sklearn\\utils\\validation.py:63: DataConversionWarning: A column-vector y was passed when a 1d array was expected. Please change the shape of y to (n_samples, ), for example using ravel().\n",
      "  return f(*args, **kwargs)\n",
      "F:\\anaconda\\lib\\site-packages\\sklearn\\utils\\optimize.py:202: ConvergenceWarning: newton-cg failed to converge. Increase the number of iterations.\n",
      "  warnings.warn(\"newton-cg failed to converge. Increase the \"\n"
     ]
    },
    {
     "name": "stdout",
     "output_type": "stream",
     "text": [
      "              precision    recall  f1-score   support\n",
      "\n",
      "     Arborio       0.77      0.86      0.81      1491\n",
      "     Basmati       0.75      0.80      0.78      1527\n",
      "      Ipsala       1.00      1.00      1.00      1434\n",
      "     Jasmine       0.75      0.65      0.69      1557\n",
      "   Karacadag       0.87      0.83      0.85      1491\n",
      "\n",
      "    accuracy                           0.82      7500\n",
      "   macro avg       0.83      0.83      0.83      7500\n",
      "weighted avg       0.83      0.82      0.82      7500\n",
      "\n"
     ]
    }
   ],
   "source": [
    "# Sprawdźmy jak przewidzi nam rodzaje ryżu z X_test_4, Y_test4\n",
    "model.fit(X_train_4, Y_train4)\n",
    "# Przewidujemy etykiete\n",
    "yhat = model.predict(X_test_4)\n",
    "\n",
    "print(classification_report(Y_test4, yhat))"
   ]
  },
  {
   "cell_type": "code",
   "execution_count": 49,
   "id": "97646fea",
   "metadata": {},
   "outputs": [
    {
     "name": "stdout",
     "output_type": "stream",
     "text": [
      "Przewidywana klasa: ['Arborio' 'Basmati' 'Jasmine' ... 'Ipsala' 'Arborio' 'Ipsala']\n"
     ]
    }
   ],
   "source": [
    "print('Przewidywana klasa: %s' % yhat)"
   ]
  },
  {
   "cell_type": "code",
   "execution_count": 50,
   "id": "7092748a",
   "metadata": {},
   "outputs": [
    {
     "name": "stdout",
     "output_type": "stream",
     "text": [
      "Predicted Probabilities: [[7.25284307e-01 1.02356674e-01 9.22782602e-02 7.10990029e-02\n",
      "  8.98175584e-03]\n",
      " [5.30275002e-02 8.22198934e-01 5.35886661e-04 7.69319745e-02\n",
      "  4.73057043e-02]\n",
      " [4.72641245e-06 4.16489856e-01 7.91027088e-11 5.83073922e-01\n",
      "  4.31495210e-04]\n",
      " ...\n",
      " [3.28698040e-02 4.94501750e-08 9.67129553e-01 5.93377025e-07\n",
      "  1.27689411e-10]\n",
      " [6.51983128e-01 1.11390180e-01 1.87432252e-01 4.49531387e-02\n",
      "  4.24130175e-03]\n",
      " [2.71035767e-05 1.07135734e-06 9.99971646e-01 1.79435155e-07\n",
      "  1.21418981e-14]]\n"
     ]
    }
   ],
   "source": [
    "# Przewidujemy multinomial probability distribution\n",
    "yhat_1 = model.predict_proba(X_test_4)\n",
    "\n",
    "print('Predicted Probabilities: %s' % yhat_1)\n",
    "# i faktycznie wybiera te z największymi prawdopodobieństwami"
   ]
  },
  {
   "cell_type": "code",
   "execution_count": 51,
   "id": "467404c3",
   "metadata": {},
   "outputs": [
    {
     "name": "stdout",
     "output_type": "stream",
     "text": [
      "Mean Accuracy: 0.777 (0.004)\n"
     ]
    }
   ],
   "source": [
    "# Dla wszystkich zmiennych\n",
    "cv2 = RepeatedStratifiedKFold(n_splits=10, n_repeats=5, random_state=1)\n",
    "n_scores2 = cross_val_score(model, X_train, Y_train.values.ravel(), scoring='accuracy', cv=cv2, n_jobs=-1)\n",
    "\n",
    "print('Mean Accuracy: %.3f (%.3f)' % (mean(n_scores2), std(n_scores2)))"
   ]
  },
  {
   "cell_type": "code",
   "execution_count": 52,
   "id": "6ed3b643",
   "metadata": {},
   "outputs": [
    {
     "name": "stderr",
     "output_type": "stream",
     "text": [
      "F:\\anaconda\\lib\\site-packages\\sklearn\\linear_model\\_logistic.py:763: ConvergenceWarning: lbfgs failed to converge (status=1):\n",
      "STOP: TOTAL NO. of ITERATIONS REACHED LIMIT.\n",
      "\n",
      "Increase the number of iterations (max_iter) or scale the data as shown in:\n",
      "    https://scikit-learn.org/stable/modules/preprocessing.html\n",
      "Please also refer to the documentation for alternative solver options:\n",
      "    https://scikit-learn.org/stable/modules/linear_model.html#logistic-regression\n",
      "  n_iter_i = _check_optimize_result(\n"
     ]
    },
    {
     "name": "stdout",
     "output_type": "stream",
     "text": [
      "              precision    recall  f1-score   support\n",
      "\n",
      "     Arborio       0.66      0.86      0.75      1503\n",
      "     Basmati       0.73      0.77      0.75      1548\n",
      "      Ipsala       0.97      0.99      0.98      1492\n",
      "     Jasmine       0.64      0.44      0.52      1483\n",
      "   Karacadag       0.85      0.81      0.83      1474\n",
      "\n",
      "    accuracy                           0.77      7500\n",
      "   macro avg       0.77      0.77      0.77      7500\n",
      "weighted avg       0.77      0.77      0.77      7500\n",
      "\n"
     ]
    }
   ],
   "source": [
    "# Sprawdźmy jak przewidzi nam rodzaje ryżu z X_test, Y_test\n",
    "log_pred2 = model.fit(X_train, Y_train.values.ravel()).predict(X_test)\n",
    "print(classification_report(Y_test, log_pred2))"
   ]
  },
  {
   "cell_type": "code",
   "execution_count": 53,
   "id": "c56b48e9",
   "metadata": {},
   "outputs": [
    {
     "name": "stdout",
     "output_type": "stream",
     "text": [
      "Predicted Class: Arborio\n"
     ]
    }
   ],
   "source": [
    "# Dla pojedynczej obserwacji\n",
    "print('Predicted Class: %s' % log_pred2[0]) "
   ]
  },
  {
   "cell_type": "code",
   "execution_count": 54,
   "id": "127acd68",
   "metadata": {},
   "outputs": [
    {
     "name": "stdout",
     "output_type": "stream",
     "text": [
      "Predicted Class: ['Arborio' 'Arborio' 'Arborio' ... 'Karacadag' 'Jasmine' 'Ipsala']\n"
     ]
    }
   ],
   "source": [
    "print('Predicted Class: %s' % log_pred2)"
   ]
  },
  {
   "cell_type": "code",
   "execution_count": 55,
   "id": "736ae1d6",
   "metadata": {},
   "outputs": [
    {
     "name": "stdout",
     "output_type": "stream",
     "text": [
      "Predicted Probabilities: [[4.97414431e-01 1.29659513e-02 3.36284885e-06 2.76864106e-01\n",
      "  2.12752150e-01]\n",
      " [5.39904038e-01 5.65317108e-03 7.19298049e-03 4.47170622e-01\n",
      "  7.91883570e-05]\n",
      " [8.69771178e-01 9.98304530e-04 2.09619657e-06 1.23414416e-01\n",
      "  5.81400534e-03]\n",
      " ...\n",
      " [3.44513880e-02 2.76629823e-01 2.00036239e-09 9.24014228e-02\n",
      "  5.96517365e-01]\n",
      " [1.60410089e-01 3.41362098e-01 1.01552474e-05 4.10887261e-01\n",
      "  8.73303964e-02]\n",
      " [2.76256617e-07 4.73319884e-13 9.99999724e-01 1.22654857e-11\n",
      "  9.74085116e-19]]\n"
     ]
    }
   ],
   "source": [
    "yhat_2 = model.predict_proba(X_test)\n",
    "\n",
    "print('Predicted Probabilities: %s' % yhat_2) "
   ]
  },
  {
   "cell_type": "markdown",
   "id": "83979097",
   "metadata": {},
   "source": [
    "## CZĘŚĆ 7: PCA"
   ]
  },
  {
   "cell_type": "code",
   "execution_count": 63,
   "id": "2acee2ac",
   "metadata": {},
   "outputs": [
    {
     "name": "stdout",
     "output_type": "stream",
     "text": [
      "[0.41957029 0.16245409 0.09173971 0.07078066 0.05765284 0.03904761\n",
      " 0.02833483 0.02029483]\n"
     ]
    }
   ],
   "source": [
    "# Standaryzujemy\n",
    "from sklearn.preprocessing import StandardScaler\n",
    "from sklearn.decomposition import PCA\n",
    "x = StandardScaler().fit_transform(X_train) \n",
    "\n",
    "pca = PCA(n_components=8)\n",
    "pca.fit(x)\n",
    "\n",
    "print(pca.explained_variance_ratio_)\n",
    "\n",
    "#Chcemy mieć przynajmniej około 60% wariancji, tyle kierunków bysmy chcieli"
   ]
  },
  {
   "cell_type": "code",
   "execution_count": 61,
   "id": "fc80476e",
   "metadata": {},
   "outputs": [
    {
     "data": {
      "text/plain": [
       "0.889874867739401"
      ]
     },
     "execution_count": 61,
     "metadata": {},
     "output_type": "execute_result"
    }
   ],
   "source": [
    "np.sum(pca.explained_variance_ratio_)"
   ]
  },
  {
   "cell_type": "markdown",
   "id": "eaba0ef9",
   "metadata": {},
   "source": [
    " Dla 8 mamy 0.889874867739401 wariancji\n",
    " \n",
    " Wniosek: W danych mamy bardzo dużo zmiennych, które niezbyt dobrze wyjasniają typ ryżu,\n",
    " a jest kilka zmiennych, które robią to bardzo dobrze.\n",
    " \n",
    " \n",
    " 8 składowych głównych wystarcza do klasyfikacji na wysokim poziomie.\n",
    " \n",
    " 14 składowych wyjasnia łącznie ponad 95% wariancji - klasyfikacji na bardzo wysokim poziomie."
   ]
  },
  {
   "cell_type": "code",
   "execution_count": null,
   "id": "7fc14a85",
   "metadata": {},
   "outputs": [],
   "source": []
  }
 ],
 "metadata": {
  "kernelspec": {
   "display_name": "Python 3 (ipykernel)",
   "language": "python",
   "name": "python3"
  },
  "language_info": {
   "codemirror_mode": {
    "name": "ipython",
    "version": 3
   },
   "file_extension": ".py",
   "mimetype": "text/x-python",
   "name": "python",
   "nbconvert_exporter": "python",
   "pygments_lexer": "ipython3",
   "version": "3.9.7"
  }
 },
 "nbformat": 4,
 "nbformat_minor": 5
}
